{
 "cells": [
  {
   "cell_type": "code",
   "execution_count": 18,
   "id": "2c19015a-b01d-48b8-98ff-52b404f961b1",
   "metadata": {},
   "outputs": [],
   "source": [
    "import torch\n",
    "import numpy as np"
   ]
  },
  {
   "cell_type": "code",
   "execution_count": 32,
   "id": "81818924",
   "metadata": {},
   "outputs": [
    {
     "name": "stdout",
     "output_type": "stream",
     "text": [
      "tensor([ 0.,  1.,  2.,  3.,  4.,  5.,  6.,  7.,  8.,  9., 10., 11.]) tensor([ 0.,  4.,  8., 12., 16., 20., 24., 28., 32., 36., 40., 44.])\n"
     ]
    }
   ],
   "source": [
    "# arange与numpy中同名函数的功能相同\n",
    "x = torch.arange(12, dtype=torch.float32)\n",
    "print(x, x * 4)"
   ]
  },
  {
   "cell_type": "code",
   "execution_count": 20,
   "id": "269d9dd6",
   "metadata": {},
   "outputs": [
    {
     "data": {
      "text/plain": [
       "torch.Size([12])"
      ]
     },
     "execution_count": 20,
     "metadata": {},
     "output_type": "execute_result"
    }
   ],
   "source": [
    "x.shape"
   ]
  },
  {
   "cell_type": "code",
   "execution_count": 21,
   "id": "1a74d8a1",
   "metadata": {},
   "outputs": [
    {
     "data": {
      "text/plain": [
       "12"
      ]
     },
     "execution_count": 21,
     "metadata": {},
     "output_type": "execute_result"
    }
   ],
   "source": [
    "x.numel()"
   ]
  },
  {
   "cell_type": "markdown",
   "id": "762bbc90",
   "metadata": {},
   "source": [
    "`reshape`和`numpy`同名函数功能相同\n",
    "使用`-1`可以自动计算剩余的维度"
   ]
  },
  {
   "cell_type": "code",
   "execution_count": 22,
   "id": "9fb7edc4",
   "metadata": {},
   "outputs": [
    {
     "data": {
      "text/plain": [
       "(tensor([[ 0.,  1.,  2.,  3.],\n",
       "         [ 4.,  5.,  6.,  7.],\n",
       "         [ 8.,  9., 10., 11.]]),\n",
       " tensor([[ 0.,  1.,  2.,  3.],\n",
       "         [ 4.,  5.,  6.,  7.],\n",
       "         [ 8.,  9., 10., 11.]]))"
      ]
     },
     "execution_count": 22,
     "metadata": {},
     "output_type": "execute_result"
    }
   ],
   "source": [
    "X = x.reshape(3, 4)\n",
    "Y = x.reshape(3, -1)\n",
    "X, Y"
   ]
  },
  {
   "cell_type": "markdown",
   "id": "fbdd391f",
   "metadata": {},
   "source": [
    "和`numpy`一样，我们可以使用`zeros`和`ones`来创建数组，可以使用`randn`创建独立同标准正态分布的数组。\n",
    "\n",
    "同理还有`zeros_like`，`ones_like`，创建同形的张量。"
   ]
  },
  {
   "cell_type": "code",
   "execution_count": 23,
   "id": "174773a8",
   "metadata": {},
   "outputs": [
    {
     "data": {
      "text/plain": [
       "(tensor([[0., 0., 0.],\n",
       "         [0., 0., 0.]]),\n",
       " tensor([[1., 1., 1., 1., 1.],\n",
       "         [1., 1., 1., 1., 1.],\n",
       "         [1., 1., 1., 1., 1.],\n",
       "         [1., 1., 1., 1., 1.]]),\n",
       " tensor([[ 1.3868,  0.1643, -0.2282, -0.1567],\n",
       "         [ 1.2685, -0.3019,  0.0530, -0.7788],\n",
       "         [ 1.5094,  1.7890,  0.6588,  0.6313]]),\n",
       " tensor([[0., 0., 0., 0.],\n",
       "         [0., 0., 0., 0.],\n",
       "         [0., 0., 0., 0.]]))"
      ]
     },
     "execution_count": 23,
     "metadata": {},
     "output_type": "execute_result"
    }
   ],
   "source": [
    "a = torch.zeros((2, 3))\n",
    "b = torch.ones((4, 5))\n",
    "r = torch.randn((3, 4))\n",
    "c = torch.zeros_like(r)\n",
    "a, b, r, c"
   ]
  },
  {
   "cell_type": "markdown",
   "id": "7aa55509",
   "metadata": {},
   "source": [
    "## 数组的运算\n",
    "\n",
    "数组的运算和`numpy`一样，可以使用正常的符号表示按元素计算。"
   ]
  },
  {
   "cell_type": "code",
   "execution_count": 34,
   "id": "23d36784",
   "metadata": {},
   "outputs": [
    {
     "data": {
      "text/plain": [
       "(tensor([ 3,  4,  6, 10]), tensor([ 2,  4,  8, 16]), tensor([ 1,  4, 16, 64]))"
      ]
     },
     "execution_count": 34,
     "metadata": {},
     "output_type": "execute_result"
    }
   ],
   "source": [
    "x = torch.tensor([1, 2, 4, 8])\n",
    "y = torch.from_numpy(np.full(4, 2))\n",
    "x + y, x * y, x ** y"
   ]
  },
  {
   "cell_type": "code",
   "execution_count": 35,
   "id": "001651e2",
   "metadata": {},
   "outputs": [
    {
     "data": {
      "text/plain": [
       "(tensor([ 3,  6, 12, 24]),\n",
       " tensor([2, 3, 5, 9]),\n",
       " tensor([0.5000, 1.0000, 2.0000, 4.0000]))"
      ]
     },
     "execution_count": 35,
     "metadata": {},
     "output_type": "execute_result"
    }
   ],
   "source": [
    "x * 3, x + 1, x / 2"
   ]
  },
  {
   "cell_type": "markdown",
   "id": "9313045b",
   "metadata": {},
   "source": [
    "指数函数、三角函数可以正常使用"
   ]
  },
  {
   "cell_type": "code",
   "execution_count": 25,
   "id": "3d55cb30",
   "metadata": {},
   "outputs": [
    {
     "data": {
      "text/plain": [
       "(tensor([2.7183e+00, 7.3891e+00, 5.4598e+01, 2.9810e+03]),\n",
       " tensor([ 0.8415,  0.9093, -0.7568,  0.9894]),\n",
       " tensor([1.1752e+00, 3.6269e+00, 2.7290e+01, 1.4905e+03]))"
      ]
     },
     "execution_count": 25,
     "metadata": {},
     "output_type": "execute_result"
    }
   ],
   "source": [
    "torch.exp(x), torch.sin(x), torch.sinh(x)"
   ]
  },
  {
   "cell_type": "markdown",
   "id": "7e76b771",
   "metadata": {},
   "source": [
    "满足一定条件的张量可以进行拼接(concatenate two tensors together)\n",
    "\n",
    "使用`cat`可以将张量进行拼接，使用`dim`参数可以指定拼接的维度。`dim=0`表示行拼接，拼接所得的数组行数等于两行之和；`dim=1`同理表示列拼接。"
   ]
  },
  {
   "cell_type": "code",
   "execution_count": 26,
   "id": "2c03f812",
   "metadata": {},
   "outputs": [
    {
     "data": {
      "text/plain": [
       "(tensor([[ 0.,  1.,  2.,  3.],\n",
       "         [ 4.,  5.,  6.,  7.],\n",
       "         [ 8.,  9., 10., 11.]]),\n",
       " tensor([[4., 3., 1., 2.],\n",
       "         [4., 3., 2., 1.],\n",
       "         [1., 2., 3., 4.]]))"
      ]
     },
     "execution_count": 26,
     "metadata": {},
     "output_type": "execute_result"
    }
   ],
   "source": [
    "X = torch.arange(12, dtype=torch.float32).reshape(3, 4)\n",
    "Y = torch.tensor([[4.0, 3, 1, 2], [4, 3, 2 ,1], [1, 2, 3, 4]])\n",
    "X, Y"
   ]
  },
  {
   "cell_type": "code",
   "execution_count": 27,
   "id": "f7716738",
   "metadata": {},
   "outputs": [
    {
     "data": {
      "text/plain": [
       "(tensor([[ 0.,  1.,  2.,  3.],\n",
       "         [ 4.,  5.,  6.,  7.],\n",
       "         [ 8.,  9., 10., 11.],\n",
       "         [ 4.,  3.,  1.,  2.],\n",
       "         [ 4.,  3.,  2.,  1.],\n",
       "         [ 1.,  2.,  3.,  4.]]),\n",
       " tensor([[ 0.,  1.,  2.,  3.,  4.,  3.,  1.,  2.],\n",
       "         [ 4.,  5.,  6.,  7.,  4.,  3.,  2.,  1.],\n",
       "         [ 8.,  9., 10., 11.,  1.,  2.,  3.,  4.]]))"
      ]
     },
     "execution_count": 27,
     "metadata": {},
     "output_type": "execute_result"
    }
   ],
   "source": [
    "torch.cat((X, Y), dim=0), torch.cat((X, Y), dim=1)"
   ]
  },
  {
   "cell_type": "markdown",
   "id": "2bdc0e55",
   "metadata": {},
   "source": [
    "两个同行数组可以按位比较"
   ]
  },
  {
   "cell_type": "code",
   "execution_count": 28,
   "id": "bd903ec9",
   "metadata": {},
   "outputs": [
    {
     "data": {
      "text/plain": [
       "(tensor([[False, False,  True,  True],\n",
       "         [False,  True,  True,  True],\n",
       "         [ True,  True,  True,  True]]),\n",
       " tensor([[False, False, False, False],\n",
       "         [ True, False, False, False],\n",
       "         [False, False, False, False]]))"
      ]
     },
     "execution_count": 28,
     "metadata": {},
     "output_type": "execute_result"
    }
   ],
   "source": [
    "X > Y, X == Y"
   ]
  },
  {
   "cell_type": "markdown",
   "id": "e4641944",
   "metadata": {},
   "source": [
    "使用`.sum()`可以求和，同`.numel()`表示取出元素数\n",
    "\n",
    "但注意`.sum()`的结果是一个一维张量"
   ]
  },
  {
   "cell_type": "code",
   "execution_count": 29,
   "id": "8b48adf8",
   "metadata": {},
   "outputs": [
    {
     "data": {
      "text/plain": [
       "(tensor(66.), 12, torch.Tensor)"
      ]
     },
     "execution_count": 29,
     "metadata": {},
     "output_type": "execute_result"
    }
   ],
   "source": [
    "X.sum(), X.numel(), type(X.sum())"
   ]
  },
  {
   "cell_type": "markdown",
   "id": "dde603e3",
   "metadata": {},
   "source": [
    "## `numpy.ndarray`和`torch.tensor`的转换\n",
    "\n",
    "使用`A.numpy()`可以将张量`A`转换为数组，使用`torch.from_numpy(B)`可以将数组`B`转换为张量\n",
    "\n",
    "使用`a.item()`，`float(a)`还可以直接将零维张量转化为`Python`内置类型（只有单元素张量可以用`.item()`转换）"
   ]
  },
  {
   "cell_type": "code",
   "execution_count": 31,
   "id": "bd608a36",
   "metadata": {},
   "outputs": [
    {
     "data": {
      "text/plain": [
       "3.5"
      ]
     },
     "execution_count": 31,
     "metadata": {},
     "output_type": "execute_result"
    }
   ],
   "source": [
    "a = torch.tensor([3.5])\n",
    "b = torch.tensor([4, 5, 6])\n",
    "a.item()"
   ]
  },
  {
   "cell_type": "markdown",
   "id": "3fee6009",
   "metadata": {},
   "source": [
    "## 2.1.8 Exercise"
   ]
  }
 ],
 "metadata": {
  "kernelspec": {
   "display_name": "Python 3 (ipykernel)",
   "language": "python",
   "name": "python3"
  },
  "language_info": {
   "codemirror_mode": {
    "name": "ipython",
    "version": 3
   },
   "file_extension": ".py",
   "mimetype": "text/x-python",
   "name": "python",
   "nbconvert_exporter": "python",
   "pygments_lexer": "ipython3",
   "version": "3.9.12"
  }
 },
 "nbformat": 4,
 "nbformat_minor": 5
}
