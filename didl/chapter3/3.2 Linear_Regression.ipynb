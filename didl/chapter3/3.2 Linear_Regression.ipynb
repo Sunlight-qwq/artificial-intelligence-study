{
 "cells": [
  {
   "cell_type": "code",
   "execution_count": 4,
   "metadata": {},
   "outputs": [],
   "source": [
    "import random\n",
    "import torch\n",
    "from matplotlib import pyplot as plt\n",
    "from d2l import torch as d2l"
   ]
  },
  {
   "cell_type": "markdown",
   "metadata": {},
   "source": [
    "生成线性回归数据库：选定参数`w`和`b`，然后加入正态样本的误差。"
   ]
  },
  {
   "cell_type": "code",
   "execution_count": 5,
   "metadata": {},
   "outputs": [],
   "source": [
    "def synthetic_data(w: torch.Tensor, b: torch.Tensor, num_examples, sigma=0.01):\n",
    "    # x is a row vector\n",
    "    x = torch.normal(0, 1, (num_examples, len(w)))\n",
    "    y = x @ w + b\n",
    "    y += torch.normal(0, sigma, y.shape)\n",
    "    return x, y.reshape((-1, 1))"
   ]
  },
  {
   "cell_type": "code",
   "execution_count": 6,
   "metadata": {},
   "outputs": [
    {
     "data": {
      "text/plain": [
       "(tensor([0.4751, 0.9834]), tensor([1.2234]))"
      ]
     },
     "execution_count": 6,
     "metadata": {},
     "output_type": "execute_result"
    }
   ],
   "source": [
    "true_w = torch.tensor([1, -3.5])\n",
    "true_b = torch.tensor(4.2)\n",
    "features, labels = synthetic_data(true_w, true_b, 1000)\n",
    "features[0], labels[0]"
   ]
  },
  {
   "cell_type": "code",
   "execution_count": 7,
   "metadata": {},
   "outputs": [
    {
     "data": {
      "text/plain": [
       "<matplotlib.collections.PathCollection at 0x2c78e54a730>"
      ]
     },
     "execution_count": 7,
     "metadata": {},
     "output_type": "execute_result"
    },
    {
     "data": {
      "image/png": "[encoded data removed]",
      "text/plain": [
       "<Figure size 432x288 with 1 Axes>"
      ]
     },
     "metadata": {
      "needs_background": "light"
     },
     "output_type": "display_data"
    }
   ],
   "source": [
    "plt.scatter(features[:, 1].numpy(), labels.numpy(), s=5)"
   ]
  },
  {
   "cell_type": "code",
   "execution_count": 8,
   "metadata": {},
   "outputs": [],
   "source": [
    "def data_iter(batch_size, features, labels):\n",
    "    num_examples = len(features)\n",
    "    indices = list(range(num_examples))\n",
    "    # 随机排列顺序\n",
    "    random.shuffle(indices)\n",
    "    for i in range(0, num_examples, batch_size):\n",
    "        batch_indices = torch.tensor(indices[i: min(i + batch_size, num_examples)])\n",
    "        yield features[batch_indices], labels[batch_indices]"
   ]
  },
  {
   "cell_type": "code",
   "execution_count": 9,
   "metadata": {},
   "outputs": [
    {
     "name": "stdout",
     "output_type": "stream",
     "text": [
      "tensor([[ 1.2354, -0.0045],\n",
      "        [-1.2150, -0.5078],\n",
      "        [ 1.1560, -0.0287],\n",
      "        [ 1.0931, -0.5244],\n",
      "        [-1.4498,  0.0034],\n",
      "        [ 0.6576, -0.5466],\n",
      "        [ 1.5651, -2.0138],\n",
      "        [-0.6702, -1.0631],\n",
      "        [-1.2819,  0.0716],\n",
      "        [-1.2278, -0.7921]]) \n",
      " tensor([[ 5.4509],\n",
      "        [ 4.7561],\n",
      "        [ 5.4520],\n",
      "        [ 7.1113],\n",
      "        [ 2.7327],\n",
      "        [ 6.7924],\n",
      "        [12.8335],\n",
      "        [ 7.2719],\n",
      "        [ 2.6508],\n",
      "        [ 5.7459]])\n"
     ]
    }
   ],
   "source": [
    "# 测试\n",
    "batch_size = 10\n",
    "for x, y in data_iter(batch_size, features, labels):\n",
    "    print(x, '\\n', y); break"
   ]
  },
  {
   "cell_type": "code",
   "execution_count": 11,
   "metadata": {},
   "outputs": [],
   "source": [
    "w = torch.normal(0, 0.01, size=(2, 1), requires_grad=True)\n",
    "b = torch.zeros(1, requires_grad=True)"
   ]
  },
  {
   "cell_type": "code",
   "execution_count": 14,
   "metadata": {},
   "outputs": [],
   "source": [
    "# Define the model\n",
    "def linreg(x: torch.Tensor, w: torch.Tensor, b: torch.Tensor) -> torch.Tensor:\n",
    "    return x @ w + b\n",
    "\n",
    "def squared_loss(y_hat: torch.Tensor, y: torch.Tensor) -> torch.Tensor:\n",
    "    return (y_hat - y.reshape(y_hat.shape)) ** 2 / 2\n",
    "\n",
    "def SGD(params, eta, batch_size):\n",
    "    with torch.no_grad():\n",
    "        for param in params:\n",
    "            param -= eta / batch_size * param.grad\n",
    "            param.grad.zero_()"
   ]
  },
  {
   "cell_type": "code",
   "execution_count": 15,
   "metadata": {},
   "outputs": [
    {
     "name": "stdout",
     "output_type": "stream",
     "text": [
      "epoch 0, loss 0.2188323587179184\n",
      "epoch 1, loss 0.0006116019794717431\n",
      "epoch 2, loss 5.1186481869081035e-05\n"
     ]
    }
   ],
   "source": [
    "eta = 0.03\n",
    "epochs = 3\n",
    "net = linreg\n",
    "loss = squared_loss\n",
    "\n",
    "for epoch in range(epochs):\n",
    "    for x, y in data_iter(batch_size, features, labels):\n",
    "        l = loss(net(x, w, b), y)\n",
    "        l.sum().backward()\n",
    "        SGD([w, b], eta, batch_size)\n",
    "    with torch.no_grad():\n",
    "        train_l = loss(net(features, w, b), labels)\n",
    "        print(f'epoch {epoch}, loss {float(train_l.mean())}')"
   ]
  },
  {
   "cell_type": "code",
   "execution_count": 16,
   "metadata": {},
   "outputs": [
    {
     "data": {
      "text/plain": [
       "(tensor([[ 0.9993],\n",
       "         [-3.4992]], requires_grad=True),\n",
       " tensor([ 1.0000, -3.5000]),\n",
       " tensor([4.1979], requires_grad=True),\n",
       " tensor(4.2000))"
      ]
     },
     "execution_count": 16,
     "metadata": {},
     "output_type": "execute_result"
    }
   ],
   "source": [
    "w, true_w, b, true_b"
   ]
  }
 ],
 "metadata": {
  "interpreter": {
   "hash": "552b560d86b437bb7daaaaa7a6e4f2f1d19845d713f6aab83779eadaf7118d43"
  },
  "kernelspec": {
   "display_name": "Python 3.9.12 ('ml')",
   "language": "python",
   "name": "python3"
  },
  "language_info": {
   "codemirror_mode": {
    "name": "ipython",
    "version": 3
   },
   "file_extension": ".py",
   "mimetype": "text/x-python",
   "name": "python",
   "nbconvert_exporter": "python",
   "pygments_lexer": "ipython3",
   "version": "3.9.12"
  },
  "orig_nbformat": 4
 },
 "nbformat": 4,
 "nbformat_minor": 2
}
