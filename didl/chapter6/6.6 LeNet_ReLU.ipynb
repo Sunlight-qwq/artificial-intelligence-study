{
 "cells": [
  {
   "cell_type": "code",
   "execution_count": 1,
   "metadata": {},
   "outputs": [],
   "source": [
    "import torch\n",
    "from torch import nn\n",
    "from d2l import torch as d2l"
   ]
  },
  {
   "cell_type": "markdown",
   "metadata": {},
   "source": [
    "网络结构修改：将所有激活函数由 sigmoid 改为 ReLU"
   ]
  },
  {
   "cell_type": "code",
   "execution_count": 2,
   "metadata": {},
   "outputs": [],
   "source": [
    "lenet = nn.Sequential(\n",
    "    nn.Conv2d(1, 6, kernel_size=5, padding=2), nn.ReLU(),\n",
    "    nn.AvgPool2d(kernel_size=2, stride=2),\n",
    "    nn.Conv2d(6, 16, kernel_size=5), nn.ReLU(),\n",
    "    nn.AvgPool2d(kernel_size=2, stride=2),\n",
    "    nn.Flatten(),\n",
    "    nn.Linear(16 * 5 * 5, 120), nn.ReLU(),\n",
    "    nn.Linear(120, 84), nn.ReLU(),\n",
    "    nn.Linear(84, 10)\n",
    ")"
   ]
  },
  {
   "cell_type": "code",
   "execution_count": 3,
   "metadata": {},
   "outputs": [
    {
     "name": "stdout",
     "output_type": "stream",
     "text": [
      "Conv2d output shape: \t torch.Size([1, 6, 28, 28])\n",
      "ReLU output shape: \t torch.Size([1, 6, 28, 28])\n",
      "AvgPool2d output shape: \t torch.Size([1, 6, 14, 14])\n",
      "Conv2d output shape: \t torch.Size([1, 16, 10, 10])\n",
      "ReLU output shape: \t torch.Size([1, 16, 10, 10])\n",
      "AvgPool2d output shape: \t torch.Size([1, 16, 5, 5])\n",
      "Flatten output shape: \t torch.Size([1, 400])\n",
      "Linear output shape: \t torch.Size([1, 120])\n",
      "ReLU output shape: \t torch.Size([1, 120])\n",
      "Linear output shape: \t torch.Size([1, 84])\n",
      "ReLU output shape: \t torch.Size([1, 84])\n",
      "Linear output shape: \t torch.Size([1, 10])\n"
     ]
    }
   ],
   "source": [
    "x = torch.rand((1, 1, 28, 28), dtype=torch.float32)\n",
    "for layer in lenet:\n",
    "    x: torch.Tensor = layer(x)\n",
    "    print(layer.__class__.__name__, 'output shape: \\t', x.shape)"
   ]
  },
  {
   "cell_type": "markdown",
   "metadata": {},
   "source": [
    "## 加载数据集"
   ]
  },
  {
   "cell_type": "code",
   "execution_count": 4,
   "metadata": {},
   "outputs": [],
   "source": [
    "batch_size = 256"
   ]
  },
  {
   "cell_type": "code",
   "execution_count": 5,
   "metadata": {},
   "outputs": [],
   "source": [
    "from torch.utils import data\n",
    "import torchvision\n",
    "from torchvision import transforms\n",
    "import matplotlib.pyplot as plt"
   ]
  },
  {
   "cell_type": "code",
   "execution_count": 6,
   "metadata": {},
   "outputs": [],
   "source": [
    "trans = transforms.ToTensor() # 将图片转为m*n*1张量\n",
    "mnist_train = torchvision.datasets.MNIST(\n",
    "    root='../data', train=True, transform=trans, download=True\n",
    ")\n",
    "mnist_test = torchvision.datasets.MNIST(\n",
    "    root='../data', train=False, transform=trans, download=True\n",
    ")"
   ]
  },
  {
   "cell_type": "code",
   "execution_count": 7,
   "metadata": {},
   "outputs": [],
   "source": [
    "train_iter = data.DataLoader(mnist_train, batch_size=256)\n",
    "test_iter = data.DataLoader(mnist_test, batch_size=256)"
   ]
  },
  {
   "cell_type": "markdown",
   "metadata": {},
   "source": [
    "## 开始训练"
   ]
  },
  {
   "cell_type": "code",
   "execution_count": 8,
   "metadata": {},
   "outputs": [
    {
     "data": {
      "text/plain": [
       "Sequential(\n",
       "  (0): Conv2d(1, 6, kernel_size=(5, 5), stride=(1, 1), padding=(2, 2))\n",
       "  (1): ReLU()\n",
       "  (2): AvgPool2d(kernel_size=2, stride=2, padding=0)\n",
       "  (3): Conv2d(6, 16, kernel_size=(5, 5), stride=(1, 1))\n",
       "  (4): ReLU()\n",
       "  (5): AvgPool2d(kernel_size=2, stride=2, padding=0)\n",
       "  (6): Flatten(start_dim=1, end_dim=-1)\n",
       "  (7): Linear(in_features=400, out_features=120, bias=True)\n",
       "  (8): ReLU()\n",
       "  (9): Linear(in_features=120, out_features=84, bias=True)\n",
       "  (10): ReLU()\n",
       "  (11): Linear(in_features=84, out_features=10, bias=True)\n",
       ")"
      ]
     },
     "execution_count": 8,
     "metadata": {},
     "output_type": "execute_result"
    }
   ],
   "source": [
    "def init_weights(m):\n",
    "    if type(m) == nn.Linear or type(m) == nn.Conv2d:\n",
    "        nn.init.xavier_uniform_(m.weight)\n",
    "lenet.apply(init_weights)"
   ]
  },
  {
   "cell_type": "code",
   "execution_count": 9,
   "metadata": {},
   "outputs": [
    {
     "data": {
      "text/plain": [
       "device(type='cuda', index=0)"
      ]
     },
     "execution_count": 9,
     "metadata": {},
     "output_type": "execute_result"
    }
   ],
   "source": [
    "gpu = torch.device('cuda:0')\n",
    "gpu"
   ]
  },
  {
   "cell_type": "code",
   "execution_count": 10,
   "metadata": {},
   "outputs": [],
   "source": [
    "lr = 0.5\n",
    "num_epochs = 20"
   ]
  },
  {
   "cell_type": "code",
   "execution_count": 11,
   "metadata": {},
   "outputs": [],
   "source": [
    "lenet.to(gpu)\n",
    "optimizer = torch.optim.SGD(lenet.parameters(), lr=lr)\n",
    "loss = nn.CrossEntropyLoss()"
   ]
  },
  {
   "cell_type": "code",
   "execution_count": 12,
   "metadata": {},
   "outputs": [],
   "source": [
    "def evaluate_accuracy(net, test_iter, device=None):\n",
    "    if isinstance(net, nn.Module):\n",
    "        net.eval()\n",
    "        if device is not None:\n",
    "            device = next(iter(net.parameters())).device\n",
    "    \n",
    "    correct_samples = 0\n",
    "    total_samples = 0\n",
    "\n",
    "    # 表示该计算过程不进行自动求导，节约计算资源\n",
    "    with torch.no_grad():\n",
    "        for x, y in test_iter:\n",
    "            x = x.to(device)\n",
    "            y = y.to(device)\n",
    "\n",
    "            # 计算分类的正确数\n",
    "            y_hat = net(x)\n",
    "            correct_samples += d2l.accuracy(y_hat, y)\n",
    "            total_samples += y.numel() # 计算 y 的总数\n",
    "    \n",
    "    return correct_samples / total_samples"
   ]
  },
  {
   "cell_type": "code",
   "execution_count": 13,
   "metadata": {},
   "outputs": [
    {
     "name": "stdout",
     "output_type": "stream",
     "text": [
      "Epoch:1, Loss: 1.6763330135027568, Train ACC: 0.4149833333333333, Test ACC: 0.5661\n",
      "Epoch:2, Loss: 0.2534020680983861, Train ACC: 0.9208333333333333, Test ACC: 0.9132\n",
      "Epoch:3, Loss: 0.1172570169210434, Train ACC: 0.96385, Test ACC: 0.9504\n",
      "Epoch:4, Loss: 0.08368137068549791, Train ACC: 0.9738833333333333, Test ACC: 0.9515\n",
      "Epoch:5, Loss: 0.06663644522825878, Train ACC: 0.9788833333333333, Test ACC: 0.9635\n",
      "Epoch:6, Loss: 0.05477057498693466, Train ACC: 0.9831333333333333, Test ACC: 0.9728\n",
      "Epoch:7, Loss: 0.047078313433130584, Train ACC: 0.9848166666666667, Test ACC: 0.979\n",
      "Epoch:8, Loss: 0.041072520330548284, Train ACC: 0.9871166666666666, Test ACC: 0.9782\n",
      "Epoch:9, Loss: 0.03578942196344336, Train ACC: 0.9886, Test ACC: 0.981\n",
      "Epoch:10, Loss: 0.032664076571663224, Train ACC: 0.9896666666666667, Test ACC: 0.9795\n",
      "Epoch:11, Loss: 0.026642275309065978, Train ACC: 0.99165, Test ACC: 0.9795\n",
      "Epoch:12, Loss: 0.024544355685512224, Train ACC: 0.9922333333333333, Test ACC: 0.9788\n",
      "Epoch:13, Loss: 0.07147478083918492, Train ACC: 0.9797833333333333, Test ACC: 0.9787\n",
      "Epoch:14, Loss: 0.03264622850716114, Train ACC: 0.9892833333333333, Test ACC: 0.9826\n",
      "Epoch:15, Loss: 0.02133304435610771, Train ACC: 0.9928333333333333, Test ACC: 0.9848\n",
      "Epoch:16, Loss: 0.017649036018302044, Train ACC: 0.9943666666666666, Test ACC: 0.984\n",
      "Epoch:17, Loss: 0.01472593367745479, Train ACC: 0.99495, Test ACC: 0.9825\n",
      "Epoch:18, Loss: 0.015054926268570126, Train ACC: 0.9950833333333333, Test ACC: 0.9799\n",
      "Epoch:19, Loss: 0.012593600563456615, Train ACC: 0.9958166666666667, Test ACC: 0.9825\n",
      "Epoch:20, Loss: 0.06019470777958631, Train ACC: 0.9844, Test ACC: 0.9815\n"
     ]
    }
   ],
   "source": [
    "for epoch in range(num_epochs):\n",
    "    # Set the net to training mode\n",
    "    lenet.train()\n",
    "    # 累积器，对当前 epoch 累积 loss、正确分类数、总样本数\n",
    "    metric = d2l.Accumulator(3) \n",
    "    \n",
    "\n",
    "    for i, (x, y) in enumerate(train_iter):\n",
    "\n",
    "        optimizer.zero_grad()\n",
    "        x, y = x.to(gpu), y.to(gpu)\n",
    "        y_hat = lenet(x)\n",
    "        l = loss(y_hat, y)\n",
    "        l.backward()\n",
    "        # 通过 .step() 来更新网络的参数\n",
    "        optimizer.step()\n",
    "\n",
    "        with torch.no_grad():\n",
    "            # 统计 loss，正确分类数，总样本数\n",
    "            metric.add(l * x.shape[0], d2l.accuracy(y_hat, y), x.shape[0])\n",
    "\n",
    "    train_loss = metric[0] / metric[2]; train_acc = metric[1] / metric[2]\n",
    "    test_acc = evaluate_accuracy(lenet, test_iter, gpu)\n",
    "    print(f'Epoch:{epoch + 1}, Loss: {train_loss}, Train ACC: {train_acc}, Test ACC: {test_acc}')"
   ]
  },
  {
   "cell_type": "markdown",
   "metadata": {},
   "source": [
    "## 网络验证\n",
    "\n",
    "`Conv2D` 的输入必须是 4 维张量： Batch_size x Channel x Height x Width，因此测试单张图片时，必须转为 `(1, 1, 28, 28)` 的格式"
   ]
  },
  {
   "cell_type": "code",
   "execution_count": 14,
   "metadata": {},
   "outputs": [
    {
     "data": {
      "text/plain": [
       "<matplotlib.image.AxesImage at 0x1a620e25130>"
      ]
     },
     "execution_count": 14,
     "metadata": {},
     "output_type": "execute_result"
    },
    {
     "data": {
      "image/png": "[encoded data removed]",
      "text/plain": [
       "<Figure size 432x288 with 1 Axes>"
      ]
     },
     "metadata": {
      "needs_background": "light"
     },
     "output_type": "display_data"
    }
   ],
   "source": [
    "plt.imshow(mnist_train[1145][0].reshape(28, 28), cmap='gray')"
   ]
  },
  {
   "cell_type": "code",
   "execution_count": 15,
   "metadata": {},
   "outputs": [
    {
     "data": {
      "text/plain": [
       "tensor(3, device='cuda:0')"
      ]
     },
     "execution_count": 15,
     "metadata": {},
     "output_type": "execute_result"
    }
   ],
   "source": [
    "img = mnist_train[1145][0].reshape(1, 1, 28, 28)\n",
    "torch.argmax(lenet(img.to(gpu)))"
   ]
  },
  {
   "cell_type": "markdown",
   "metadata": {},
   "source": [
    "结论：将激活函数由 Sigmoid 改成 ReLU 之后，明显地提高了正确率"
   ]
  }
 ],
 "metadata": {
  "interpreter": {
   "hash": "89ea846f7ca9abf5473e9155c28ffb70eaa7ddb38e5e8c5e29b5f3a4e8ba9e85"
  },
  "kernelspec": {
   "display_name": "Python 3.9.13 ('ml')",
   "language": "python",
   "name": "python3"
  },
  "language_info": {
   "codemirror_mode": {
    "name": "ipython",
    "version": 3
   },
   "file_extension": ".py",
   "mimetype": "text/x-python",
   "name": "python",
   "nbconvert_exporter": "python",
   "pygments_lexer": "ipython3",
   "version": "3.9.13"
  },
  "orig_nbformat": 4
 },
 "nbformat": 4,
 "nbformat_minor": 2
}
