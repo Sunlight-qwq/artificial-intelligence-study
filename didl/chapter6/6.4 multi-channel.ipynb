{
 "cells": [
  {
   "cell_type": "code",
   "execution_count": 2,
   "metadata": {},
   "outputs": [],
   "source": [
    "import torch\n",
    "import numpy as np\n",
    "import matplotlib"
   ]
  },
  {
   "cell_type": "code",
   "execution_count": 3,
   "metadata": {},
   "outputs": [],
   "source": [
    "def corr2d(input_tensor: torch.Tensor, kernel: torch.Tensor):\n",
    "    m, n = input_tensor.shape\n",
    "    a, b = kernel.shape\n",
    "    y = torch.zeros(m - a + 1, n - b + 1)\n",
    "    for i in range(y.shape[0]):\n",
    "        for j in range(y.shape[1]):\n",
    "            y[i, j] = torch.sum(input_tensor[i:i + a, j:j + b] * kernel)\n",
    "    return y"
   ]
  },
  {
   "cell_type": "code",
   "execution_count": 4,
   "metadata": {},
   "outputs": [],
   "source": [
    "def corr2d_multi_in(input_tensor: torch.Tensor, kernel: torch.Tensor):\n",
    "\n",
    "    # 直接遍历即可。\n",
    "    return sum(corr2d(x, k) for x, k in zip(input_tensor, kernel))"
   ]
  },
  {
   "cell_type": "code",
   "execution_count": 5,
   "metadata": {},
   "outputs": [
    {
     "data": {
      "text/plain": [
       "tensor([[ 56.,  72.],\n",
       "        [104., 120.]])"
      ]
     },
     "execution_count": 5,
     "metadata": {},
     "output_type": "execute_result"
    }
   ],
   "source": [
    "x = np.array([np.arange(0, 9), np.arange(1, 10)]).reshape([2, 3, 3])\n",
    "x = torch.from_numpy(x)\n",
    "k = np.array([np.arange(0, 4), np.arange(1, 5)]).reshape([2, 2, 2])\n",
    "k = torch.from_numpy(k)\n",
    "corr2d_multi_in(x, k)"
   ]
  },
  {
   "cell_type": "code",
   "execution_count": 17,
   "metadata": {},
   "outputs": [
    {
     "data": {
      "text/plain": [
       "array([[0, 1, 2, 3, 4, 5, 6, 7, 8],\n",
       "       [1, 2, 3, 4, 5, 6, 7, 8, 9]])"
      ]
     },
     "execution_count": 17,
     "metadata": {},
     "output_type": "execute_result"
    }
   ],
   "source": [
    "np.array([np.arange(0, 9), np.arange(1, 10)])"
   ]
  },
  {
   "cell_type": "markdown",
   "metadata": {},
   "source": [
    "### 多层输出通道\n",
    "\n",
    "这里每个输出通道都对应一个卷积核，于是卷积核成为一个四维张量 $c_i \\times c_o \\times k_h \\times k_w$"
   ]
  },
  {
   "cell_type": "code",
   "execution_count": 6,
   "metadata": {},
   "outputs": [],
   "source": [
    "def corr2d_multi_out(input_tensor: torch.Tensor, kernel: torch.Tensor):\n",
    "    return torch.stack([corr2d_multi_in(input_tensor, k) for k in kernel], dim=0)"
   ]
  },
  {
   "cell_type": "code",
   "execution_count": 11,
   "metadata": {},
   "outputs": [
    {
     "data": {
      "text/plain": [
       "torch.Size([3, 2, 2, 2])"
      ]
     },
     "execution_count": 11,
     "metadata": {},
     "output_type": "execute_result"
    }
   ],
   "source": [
    "k2 = torch.stack([k, k + 1, k + 2])\n",
    "k2.shape"
   ]
  },
  {
   "cell_type": "code",
   "execution_count": 12,
   "metadata": {},
   "outputs": [
    {
     "data": {
      "text/plain": [
       "tensor([[[ 56.,  72.],\n",
       "         [104., 120.]],\n",
       "\n",
       "        [[ 76., 100.],\n",
       "         [148., 172.]],\n",
       "\n",
       "        [[ 96., 128.],\n",
       "         [192., 224.]]])"
      ]
     },
     "execution_count": 12,
     "metadata": {},
     "output_type": "execute_result"
    }
   ],
   "source": [
    "corr2d_multi_out(x, k2)"
   ]
  },
  {
   "cell_type": "markdown",
   "metadata": {},
   "source": [
    "### 1 x 1 卷积核\n",
    "\n",
    "只改变通道数，不进行卷积操作\n",
    "\n",
    "卷积核的尺寸为 $c_i \\times c_o$"
   ]
  },
  {
   "cell_type": "code",
   "execution_count": 13,
   "metadata": {},
   "outputs": [],
   "source": [
    "def corr2d_1x1(x: torch.Tensor, k: torch.Tensor):\n",
    "    c_i, h, w = x.shape\n",
    "    c_o = k.shape[0]\n",
    "    x = x.reshape(c_i, h * w)\n",
    "    k = k.reshape(c_o, c_i)\n",
    "    y = torch.matmul(k, x)\n",
    "    return y.reshape(c_o, h, w)"
   ]
  },
  {
   "cell_type": "code",
   "execution_count": 15,
   "metadata": {},
   "outputs": [
    {
     "data": {
      "text/plain": [
       "(tensor([[[ 4.5196,  5.6132, -4.0586],\n",
       "          [ 1.9676,  1.9140,  0.7529],\n",
       "          [-4.1370,  0.8033,  1.8129]],\n",
       " \n",
       "         [[ 0.6334, -2.3787,  1.4956],\n",
       "          [-2.3898, -1.9273, -0.5111],\n",
       "          [ 4.5911,  0.2217, -2.0058]]]),\n",
       " tensor([[[ 4.5196,  5.6132, -4.0586],\n",
       "          [ 1.9676,  1.9140,  0.7529],\n",
       "          [-4.1370,  0.8033,  1.8129]],\n",
       " \n",
       "         [[ 0.6334, -2.3787,  1.4956],\n",
       "          [-2.3898, -1.9273, -0.5111],\n",
       "          [ 4.5911,  0.2217, -2.0058]]]))"
      ]
     },
     "execution_count": 15,
     "metadata": {},
     "output_type": "execute_result"
    }
   ],
   "source": [
    "X = torch.normal(0, 1, (3, 3, 3))\n",
    "K = torch.normal(0, 1, (2, 3, 1, 1))\n",
    "\n",
    "Y1 = corr2d_1x1(X, K)\n",
    "Y2 = corr2d_multi_out(X, K)\n",
    "\n",
    "Y1, Y2"
   ]
  },
  {
   "cell_type": "code",
   "execution_count": null,
   "metadata": {},
   "outputs": [],
   "source": []
  }
 ],
 "metadata": {
  "interpreter": {
   "hash": "552b560d86b437bb7daaaaa7a6e4f2f1d19845d713f6aab83779eadaf7118d43"
  },
  "kernelspec": {
   "display_name": "Python 3.9.12 ('ml')",
   "language": "python",
   "name": "python3"
  },
  "language_info": {
   "codemirror_mode": {
    "name": "ipython",
    "version": 3
   },
   "file_extension": ".py",
   "mimetype": "text/x-python",
   "name": "python",
   "nbconvert_exporter": "python",
   "pygments_lexer": "ipython3",
   "version": "3.9.13"
  },
  "orig_nbformat": 4
 },
 "nbformat": 4,
 "nbformat_minor": 2
}
