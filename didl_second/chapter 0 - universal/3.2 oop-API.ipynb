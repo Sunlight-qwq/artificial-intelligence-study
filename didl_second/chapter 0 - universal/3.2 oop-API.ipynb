{
 "cells": [
  {
   "cell_type": "code",
   "execution_count": null,
   "metadata": {},
   "outputs": [],
   "source": [
    "import numpy as np\n",
    "import torch\n",
    "from torch import nn\n",
    "from d2l import torch as d2l"
   ]
  },
  {
   "cell_type": "markdown",
   "metadata": {},
   "source": [
    "## OOP （面向对象） API\n",
    "\n",
    "这一节记录一些用于 jupyter notebook 面向对象编程的 API。"
   ]
  },
  {
   "cell_type": "markdown",
   "metadata": {},
   "source": [
    "### 添加属性 / 方法\n",
    "\n",
    "允许我们将函数添加进一个类作为方法。\n",
    "\n",
    "可以将 `class` 的定义拆散成小块。"
   ]
  },
  {
   "cell_type": "code",
   "execution_count": null,
   "metadata": {},
   "outputs": [],
   "source": [
    "def add_to_class(Class):\n",
    "    def wrapper(obj):\n",
    "        setattr(Class, obj.__name__, obj)\n",
    "    return wrapper"
   ]
  },
  {
   "cell_type": "code",
   "execution_count": null,
   "metadata": {},
   "outputs": [],
   "source": [
    "class Cat:\n",
    "    def __init__(self, cat_name: str):\n",
    "        self.name = cat_name\n",
    "        self.age = 0\n",
    "    \n",
    "    def grow(self):\n",
    "        self.age += 1\n",
    "    \n",
    "    def __repr__(self):\n",
    "        return \"Cat {}, age {}\".format(self.name, self.age)\n",
    "\n",
    "neko = Cat('Neko')\n",
    "neko.grow()\n",
    "neko"
   ]
  },
  {
   "cell_type": "markdown",
   "metadata": {},
   "source": [
    "定义函数并将函数添加到类中，相当于：\n",
    "\n",
    "```python\n",
    "add_to_cat = add_to_class(Cat)\n",
    "self_introduction = add_to_cat(self_introduction)\n",
    "```"
   ]
  },
  {
   "cell_type": "code",
   "execution_count": null,
   "metadata": {},
   "outputs": [],
   "source": [
    "@add_to_class(Cat)\n",
    "def self_introduction(self) -> None:\n",
    "    print(\"Hello! My name is {} nya~ I am {} years old nya~\".format(self.name, self.age))\n",
    "\n",
    "# 定义完成后，self_introduction 变为 wrapper 的返回值，即 None\n",
    "self_introduction, neko.self_introduction()"
   ]
  },
  {
   "cell_type": "markdown",
   "metadata": {},
   "source": [
    "### 保存超参数\n",
    "\n",
    "方法：调用栈，查看栈内的局部变量，将局部变量写为类的属性\n",
    "\n",
    "该方法可以将 `__init__` 函数传入的形参（本地变量）全都保存为类的属性"
   ]
  },
  {
   "cell_type": "code",
   "execution_count": null,
   "metadata": {},
   "outputs": [],
   "source": [
    "import inspect\n",
    "\n",
    "class HyperParameters:\n",
    "    def save_hyperparameters(self, ignore=[]):\n",
    "        # currentframe 获得栈帧\n",
    "        frame = inspect.currentframe().f_back\n",
    "        _, _, _, local_vars = inspect.getargvalues(frame)\n",
    "        self.hparams = {\n",
    "            k: v for k, v in local_vars.items()\n",
    "            if k not in set(ignore + ['self']) and not k.startswith('_')\n",
    "        }\n",
    "        for k, v in self.hparams.items():\n",
    "            setattr(self, k, v)"
   ]
  },
  {
   "cell_type": "code",
   "execution_count": null,
   "metadata": {},
   "outputs": [],
   "source": [
    "class B(HyperParameters):\n",
    "    def __init__(self, a, b, c):\n",
    "        self.save_hyperparameters(ignore=['c']) # 将 a, b 保存为属性，不包括 c\n",
    "\n",
    "b = B(a=1, b='qwq', c=3)\n",
    "b.a, b.b, hasattr(b, 'c')"
   ]
  },
  {
   "cell_type": "markdown",
   "metadata": {},
   "source": [
    "### 动态绘图\n",
    "\n",
    "可以根据输出结果实时绘图（慎用，占用内存较大）"
   ]
  },
  {
   "cell_type": "code",
   "execution_count": null,
   "metadata": {},
   "outputs": [],
   "source": [
    "import collections\n",
    "from matplotlib_inline import backend_inline\n",
    "import matplotlib.pyplot as plt\n",
    "from IPython import display\n",
    "\n",
    "class ProgressBoard(HyperParameters):\n",
    "    def __init__(\n",
    "        self, xlabel=None, ylabel=None, xlim=None, ylim=None,\n",
    "        xscale='linear', yscale='linear',\n",
    "        ls=['-', '--', '-.', ':'],\n",
    "        colors=['C0', 'C1', 'C2', 'C3'],\n",
    "        fig=None, axes=None, figsize=(3.5, 2.5), display=True\n",
    "    ):\n",
    "        self.save_hyperparameters()\n",
    "    \n",
    "    def draw(self, x, y, label, every_n=1):\n",
    "        Point = collections.namedtuple('Point', ['x', 'y']) # 创建命名元组\n",
    "        if not hasattr(self, 'raw_points'):\n",
    "            self.raw_points = collections.OrderedDict() # 有序映射\n",
    "            self.data = collections.OrderedDict()\n",
    "        if label not in self.raw_points:\n",
    "            self.raw_points[label] = [] # 空列表\n",
    "            self.data[label] = []\n",
    "        points: list = self.raw_points[label]\n",
    "        line: list = self.data[label]\n",
    "        points.append(Point(x, y))\n",
    "        if len(points) != every_n:\n",
    "            return\n",
    "        mean = lambda x: sum(x) / len(x)\n",
    "        line.append(Point(\n",
    "            mean([p.x for p in points]),\n",
    "            mean([p.y for p in points])\n",
    "        ))\n",
    "        points.clear()\n",
    "        if not self.display:\n",
    "            return\n",
    "        backend_inline.set_matplotlib_formats('svg') # 设置矢量图格式\n",
    "        if self.fig is None:\n",
    "            self.fig = plt.figure(figsize=self.figsize) # 创建画布\n",
    "        plt_lines, labels = [], []\n",
    "        for (k, v), ls ,color in zip(self.data.items(), self.ls, self.colors):\n",
    "            plt_lines.append(plt.plot(\n",
    "                [p.x for p in v], [p.y for p in v],\n",
    "                linestyle=ls, color=color\n",
    "            )[0])\n",
    "            labels.append(k)\n",
    "        axes = self.axes if self.axes else plt.gca() # get current axes 获得当前子图\n",
    "        if self.xlim: axes.set_xlim(self.xlim)\n",
    "        if self.ylim: axes.set_ylim(self.ylim)\n",
    "        if not self.xlabel: self.xlabel = self.x\n",
    "        axes.set_xlabel(self.xlabel)\n",
    "        axes.set_ylabel(self.ylabel)\n",
    "        axes.set_xscale(self.xscale)\n",
    "        axes.set_yscale(self.yscale)\n",
    "        axes.legend(plt_lines, labels) # 设置图例\n",
    "        display.display(self.fig) # 显示图像\n",
    "        display.clear_output(wait=True) # 让新显示的图覆盖原图"
   ]
  },
  {
   "cell_type": "code",
   "execution_count": null,
   "metadata": {},
   "outputs": [],
   "source": [
    "board = ProgressBoard('x')\n",
    "for x in np.arange(0, 10, 0.1):\n",
    "    board.draw(x, np.sin(x), 'sin')\n",
    "    board.draw(x, np.cos(x), 'cos', 5)"
   ]
  }
 ],
 "metadata": {
  "interpreter": {
   "hash": "89ea846f7ca9abf5473e9155c28ffb70eaa7ddb38e5e8c5e29b5f3a4e8ba9e85"
  },
  "kernelspec": {
   "display_name": "Python 3.9.13 ('ml')",
   "language": "python",
   "name": "python3"
  },
  "language_info": {
   "codemirror_mode": {
    "name": "ipython",
    "version": 3
   },
   "file_extension": ".py",
   "mimetype": "text/x-python",
   "name": "python",
   "nbconvert_exporter": "python",
   "pygments_lexer": "ipython3",
   "version": "3.9.13"
  },
  "orig_nbformat": 4
 },
 "nbformat": 4,
 "nbformat_minor": 2
}
