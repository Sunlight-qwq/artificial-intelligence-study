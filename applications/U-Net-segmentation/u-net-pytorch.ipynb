{
 "cells": [
  {
   "cell_type": "code",
   "execution_count": 1,
   "metadata": {},
   "outputs": [],
   "source": [
    "import torch\n",
    "from torch import nn\n",
    "import torchvision\n",
    "from torch.nn import functional as F\n",
    "from torch.utils.data import Dataset, DataLoader"
   ]
  },
  {
   "cell_type": "markdown",
   "metadata": {},
   "source": [
    "预处理"
   ]
  },
  {
   "cell_type": "code",
   "execution_count": 2,
   "metadata": {},
   "outputs": [
    {
     "name": "stdout",
     "output_type": "stream",
     "text": [
      "Training dataset size: 1464\n"
     ]
    }
   ],
   "source": [
    "import os\n",
    "\n",
    "\n",
    "dataset_path = \"../../datasets/VOC2012\"\n",
    "TRAIN_PATH = \"ImageSets/Segmentation/train.txt\"\n",
    "TEST_PATH = \"ImageSets/Segmentation/val.txt\"\n",
    "\n",
    "with open(os.path.join(dataset_path, TRAIN_PATH)) as f:\n",
    "    seg_image_list = [string for string in f.read().split('\\n') if string]\n",
    "\n",
    "print(\"Training dataset size:\", len(seg_image_list))"
   ]
  },
  {
   "cell_type": "markdown",
   "metadata": {},
   "source": [
    "构造随机裁剪函数，将图片裁成宽 480，高 320 的大小"
   ]
  },
  {
   "cell_type": "code",
   "execution_count": 3,
   "metadata": {},
   "outputs": [],
   "source": [
    "from typing import Tuple\n",
    "\n",
    "\n",
    "def random_crop(img: torch.Tensor, label: torch.Tensor, size: Tuple[int, int]=(320, 480)):\n",
    "    i, j, h, w = torchvision.transforms.RandomCrop.get_params(img, size)\n",
    "    cropped_img = torchvision.transforms.functional.crop(img, i, j, h, w)\n",
    "    cropped_label = torchvision.transforms.functional.crop(label, i, j, h, w)\n",
    "\n",
    "    return cropped_img, cropped_label"
   ]
  },
  {
   "cell_type": "code",
   "execution_count": 4,
   "metadata": {},
   "outputs": [
    {
     "data": {
      "text/plain": [
       "{(0, 0, 0): 0,\n",
       " (128, 0, 0): 1,\n",
       " (0, 128, 0): 2,\n",
       " (128, 128, 0): 3,\n",
       " (0, 0, 128): 4,\n",
       " (128, 0, 128): 5,\n",
       " (0, 128, 128): 6,\n",
       " (128, 128, 128): 7,\n",
       " (64, 0, 0): 8,\n",
       " (192, 0, 0): 9,\n",
       " (64, 128, 0): 10,\n",
       " (192, 128, 0): 11,\n",
       " (64, 0, 128): 12,\n",
       " (192, 0, 128): 13,\n",
       " (64, 128, 128): 14,\n",
       " (192, 128, 128): 15,\n",
       " (0, 64, 0): 16,\n",
       " (128, 64, 0): 17,\n",
       " (0, 192, 0): 18,\n",
       " (128, 192, 0): 19,\n",
       " (0, 64, 128): 20,\n",
       " (224, 224, 192): 0}"
      ]
     },
     "execution_count": 4,
     "metadata": {},
     "output_type": "execute_result"
    }
   ],
   "source": [
    "VOC_COLORS = [[0, 0, 0], [128, 0, 0], [0, 128, 0], [128, 128, 0],\n",
    "                [0, 0, 128], [128, 0, 128], [0, 128, 128], [128, 128, 128],\n",
    "                [64, 0, 0], [192, 0, 0], [64, 128, 0], [192, 128, 0],\n",
    "                [64, 0, 128], [192, 0, 128], [64, 128, 128], [192, 128, 128],\n",
    "                [0, 64, 0], [128, 64, 0], [0, 192, 0], [128, 192, 0],\n",
    "                [0, 64, 128], [224, 224, 192]]\n",
    "\n",
    "VOC_CLASSES = ['background', 'aeroplane', 'bicycle', 'bird', 'boat',\n",
    "               'bottle', 'bus', 'car', 'cat', 'chair', 'cow',\n",
    "               'diningtable', 'dog', 'horse', 'motorbike', 'person',\n",
    "               'potted plant', 'sheep', 'sofa', 'train', 'tv/monitor', 'edge']\n",
    "\n",
    "COLORMAP = dict(zip([tuple(lst) for lst in VOC_COLORS], range(22)))\n",
    "COLORMAP[(224, 224, 192)] = 0\n",
    "COLORMAP"
   ]
  },
  {
   "cell_type": "code",
   "execution_count": 5,
   "metadata": {},
   "outputs": [],
   "source": [
    "def label_preprocessing(label: torch.Tensor):\n",
    "    int_label = torch.zeros(label.shape[1:])\n",
    "    for x, row in enumerate(label.permute(1, 2, 0)):\n",
    "        for y, color in enumerate(row):\n",
    "            int_label[x, y] = COLORMAP[tuple(color.tolist())]\n",
    "    \n",
    "    return int_label\n",
    "    "
   ]
  },
  {
   "cell_type": "code",
   "execution_count": 6,
   "metadata": {},
   "outputs": [],
   "source": [
    "TRAIN_PATH = \"ImageSets/Segmentation/train.txt\"\n",
    "TEST_PATH = \"ImageSets/Segmentation/val.txt\"\n",
    "IMAGE_PATH = \"JPEGImages\"\n",
    "SEGMENTATION_LABEL_PATH = \"SegmentationClass\"\n",
    "\n",
    "\n",
    "class VocDataset(Dataset):\n",
    "    def __init__(self, dataset_path: str, train: bool=True, shape: Tuple[int, int]=(320, 480)):\n",
    "        if train:\n",
    "            with open(os.path.join(dataset_path, TRAIN_PATH)) as f:\n",
    "                file_list = [string for string in f.read().split('\\n') if string]\n",
    "        else:\n",
    "            with open(os.path.join(dataset_path, TEST_PATH)) as f:\n",
    "                file_list = [string for string in f.read().split('\\n') if string]\n",
    "\n",
    "        self.image_list = []\n",
    "        self.label_list = []\n",
    "        self.shape = shape\n",
    "\n",
    "        for file in file_list:\n",
    "            img = torchvision.io.read_image(\n",
    "                os.path.join(dataset_path, IMAGE_PATH, file + '.jpg'),\n",
    "                mode=torchvision.io.image.ImageReadMode.RGB)\n",
    "            if img.shape[1] < shape[0] or img.shape[2] < shape[1]:\n",
    "                continue\n",
    "            self.image_list.append(img)\n",
    "            label = torchvision.io.read_image(\n",
    "                os.path.join(dataset_path, SEGMENTATION_LABEL_PATH, file + '.png'),\n",
    "                mode=torchvision.io.image.ImageReadMode.RGB)\n",
    "            self.label_list.append(label)\n",
    "        \n",
    "        self.size = len(self.image_list)\n",
    "        print(\"Read {} images.\".format(self.size))\n",
    "\n",
    "    def __getitem__(self, idx: int):\n",
    "        cropped_img, cropped_label = random_crop(\n",
    "            self.image_list[idx], self.label_list[idx], self.shape\n",
    "        )\n",
    "        # int_label = cropped_label\n",
    "        int_label = label_preprocessing(cropped_label)\n",
    "        return cropped_img, int_label\n",
    "    \n",
    "    def __len__(self):\n",
    "        return self.size\n"
   ]
  },
  {
   "cell_type": "code",
   "execution_count": 7,
   "metadata": {},
   "outputs": [
    {
     "name": "stdout",
     "output_type": "stream",
     "text": [
      "Read 1114 images.\n",
      "Read 1078 images.\n"
     ]
    }
   ],
   "source": [
    "train_dataset = VocDataset(dataset_path, train=True)\n",
    "test_dataset = VocDataset(dataset_path, train=False)"
   ]
  },
  {
   "cell_type": "code",
   "execution_count": 8,
   "metadata": {},
   "outputs": [
    {
     "name": "stdout",
     "output_type": "stream",
     "text": [
      "torch.Size([3, 3, 320, 480]) torch.Size([3, 320, 480])\n"
     ]
    }
   ],
   "source": [
    "train_loader = DataLoader(train_dataset, batch_size=3, shuffle=True)\n",
    "test_loader = DataLoader(test_dataset, batch_size=1)\n",
    "\n",
    "for x, y in train_loader:\n",
    "    break\n",
    "\n",
    "print(x.shape, y.shape)"
   ]
  },
  {
   "cell_type": "markdown",
   "metadata": {},
   "source": [
    "准确分类像素数计数"
   ]
  },
  {
   "cell_type": "code",
   "execution_count": 9,
   "metadata": {},
   "outputs": [],
   "source": [
    "def count_accurate(y_hat: torch.Tensor, y: torch.Tensor):\n",
    "    return int(torch.sum(y_hat.argmax(dim=1) == y))"
   ]
  },
  {
   "cell_type": "markdown",
   "metadata": {},
   "source": [
    "构建网络，进行分类"
   ]
  },
  {
   "cell_type": "code",
   "execution_count": 10,
   "metadata": {},
   "outputs": [],
   "source": [
    "class DoubleConv(nn.Module):\n",
    "    def __init__(self, in_channels: int, out_channels: int):\n",
    "        super().__init__()\n",
    "        self.net = nn.Sequential(\n",
    "            nn.Conv2d(in_channels, out_channels, kernel_size=3, padding=1),\n",
    "            nn.BatchNorm2d(out_channels),\n",
    "            nn.ReLU(),\n",
    "            nn.Conv2d(out_channels, out_channels, kernel_size=3, padding=1),\n",
    "            nn.BatchNorm2d(out_channels),\n",
    "            nn.ReLU()\n",
    "        )\n",
    "\n",
    "    def forward(self, x):\n",
    "        return self.net(x)\n",
    "\n",
    "\n",
    "class DownConv(nn.Module):\n",
    "    def __init__(self, in_channels: int, out_channels: int):\n",
    "        super().__init__()\n",
    "        self.conv = DoubleConv(in_channels, out_channels)\n",
    "        self.down = nn.MaxPool2d(kernel_size=2)\n",
    "    \n",
    "    def forward(self, x):\n",
    "        x1 = self.conv(x)\n",
    "        x2 = self.down(x1)\n",
    "        return x1, x2\n",
    "\n",
    "\n",
    "class UpConv(nn.Module):\n",
    "    def __init__(self, in_channels: int, out_channels: int):\n",
    "        super().__init__()\n",
    "        self.up = nn.ConvTranspose2d(in_channels, out_channels, kernel_size=2, stride=2)\n",
    "        self.conv = DoubleConv(in_channels, out_channels)\n",
    "    \n",
    "    def forward(self, x, x_copy):\n",
    "        x_up = self.up(x)\n",
    "        x_concat = torch.concat([x_up, x_copy], dim=1)\n",
    "        return self.conv(x_concat)\n",
    "\n",
    "\n",
    "class UNet(nn.Module):\n",
    "    def __init__(self, in_channels: int, num_classes: int):\n",
    "        super().__init__()\n",
    "        self.down1 = DownConv(3, 64)\n",
    "        self.down2 = DownConv(64, 128)\n",
    "        self.down3 = DownConv(128, 256)\n",
    "        self.down4 = DownConv(256, 512)\n",
    "        self.bottleneck = DoubleConv(512, 1024)\n",
    "        self.up1 = UpConv(1024, 512)\n",
    "        self.up2 = UpConv(512, 256)\n",
    "        self.up3 = UpConv(256, 128)\n",
    "        self.up4 = UpConv(128, 64)\n",
    "        self.out = nn.Conv2d(64, num_classes, kernel_size=3, padding=1)\n",
    "    \n",
    "    def forward(self, x):\n",
    "        x1, x1_down = self.down1(x)\n",
    "        x2, x2_down = self.down2(x1_down)\n",
    "        x3, x3_down = self.down3(x2_down)\n",
    "        x4, x4_down = self.down4(x3_down)\n",
    "        y0 = self.bottleneck(x4_down)\n",
    "        y1 = self.up1(y0, x4)\n",
    "        y2 = self.up2(y1, x3)\n",
    "        y3 = self.up3(y2, x2)\n",
    "        y4 = self.up4(y3, x1)\n",
    "        return self.out(y4)"
   ]
  },
  {
   "cell_type": "markdown",
   "metadata": {},
   "source": [
    "使用 GPU，准备训练"
   ]
  },
  {
   "cell_type": "code",
   "execution_count": 11,
   "metadata": {},
   "outputs": [
    {
     "data": {
      "text/plain": [
       "device(type='cuda')"
      ]
     },
     "execution_count": 11,
     "metadata": {},
     "output_type": "execute_result"
    }
   ],
   "source": [
    "gpu = torch.device(\"cuda\")\n",
    "gpu"
   ]
  },
  {
   "cell_type": "code",
   "execution_count": 12,
   "metadata": {},
   "outputs": [],
   "source": [
    "unet = UNet(3, 21).to(gpu)"
   ]
  },
  {
   "cell_type": "code",
   "execution_count": 13,
   "metadata": {},
   "outputs": [],
   "source": [
    "lr = 0.01\n",
    "num_epochs = 20\n",
    "optimizer = torch.optim.Adam(unet.parameters(), lr)"
   ]
  },
  {
   "cell_type": "code",
   "execution_count": 14,
   "metadata": {},
   "outputs": [],
   "source": [
    "# cross_entropy = nn.CrossEntropyLoss()\n",
    "# def loss(prediction: torch.Tensor, label: torch.Tensor) -> torch.Tensor:\n",
    "#     l = cross_entropy(prediction.permute(0, 2, 3, 1).flatten(0, 2), label.flatten(0, 2))\n",
    "#     return l"
   ]
  },
  {
   "cell_type": "code",
   "execution_count": 15,
   "metadata": {},
   "outputs": [
    {
     "data": {
      "text/plain": [
       "[0.00059640177741287,\n",
       " 0.06576704490683068,\n",
       " 0.15442672573680793,\n",
       " 0.052459913629721334,\n",
       " 0.07733380319113269,\n",
       " 0.07718465950793414,\n",
       " 0.02676270592391312,\n",
       " 0.03350841070995501,\n",
       " 0.017342202841490108,\n",
       " 0.04092966103497042,\n",
       " 0.0568208376433905,\n",
       " 0.03462928101585405,\n",
       " 0.026951623808923176,\n",
       " 0.05127708762700316,\n",
       " 0.04053930025233477,\n",
       " 0.009761997318590397,\n",
       " 0.07010757379946872,\n",
       " 0.051942961503561855,\n",
       " 0.03241862152709714,\n",
       " 0.029391689156171033,\n",
       " 0.04984749708743679]"
      ]
     },
     "execution_count": 15,
     "metadata": {},
     "output_type": "execute_result"
    }
   ],
   "source": [
    "import json\n",
    "\n",
    "with open(\"./num-classes.json\") as f:\n",
    "    num_classes = json.load(f)\n",
    "total_num = sum(num_classes)\n",
    "weights = [total_num / num_class for num_class in num_classes]\n",
    "\n",
    "\n",
    "cross_entropy = nn.CrossEntropyLoss(weight=torch.Tensor(weights).to(gpu))\n",
    "def loss(prediction: torch.Tensor, label: torch.Tensor) -> torch.Tensor:\n",
    "    l = cross_entropy(prediction.permute(0, 2, 3, 1).flatten(0, 2), label.flatten(0, 2))\n",
    "    return l\n",
    "\n",
    "weights = [weight / sum(weights) for weight in weights]\n",
    "weights"
   ]
  },
  {
   "cell_type": "code",
   "execution_count": 16,
   "metadata": {},
   "outputs": [],
   "source": [
    "last_epoch = 0\n",
    "\n",
    "# checkpoint = torch.load(\"./parameter_epoch_1_lr_0.01_weighted_loss_2.tar\")\n",
    "# unet.load_state_dict(checkpoint['model'])\n",
    "# optimizer.load_state_dict(checkpoint['optimizer'])\n",
    "# last_epoch = checkpoint['epoch']"
   ]
  },
  {
   "cell_type": "code",
   "execution_count": 17,
   "metadata": {},
   "outputs": [],
   "source": [
    "# num_accurate = 0\n",
    "# num_total = 0\n",
    "\n",
    "# with torch.no_grad():\n",
    "#     for idx, (x, y) in enumerate(test_loader):\n",
    "#         x: torch.Tensor\n",
    "#         y: torch.Tensor\n",
    "#         x = x.float().to(gpu)\n",
    "#         y = y.long().to(gpu)\n",
    "#         num_total += int(y.shape[1] * y.shape[2])\n",
    "#         y_hat = unet(x)\n",
    "#         num_accurate += count_accurate(y_hat, y)\n",
    "\n",
    "#         if (idx + 1) % 10 == 0:\n",
    "#             print(idx + 1)"
   ]
  },
  {
   "cell_type": "code",
   "execution_count": 18,
   "metadata": {},
   "outputs": [
    {
     "name": "stdout",
     "output_type": "stream",
     "text": [
      "20 batches passed\n",
      "40 batches passed\n",
      "60 batches passed\n",
      "80 batches passed\n",
      "100 batches passed\n",
      "120 batches passed\n",
      "140 batches passed\n",
      "160 batches passed\n",
      "180 batches passed\n",
      "200 batches passed\n",
      "220 batches passed\n",
      "240 batches passed\n",
      "260 batches passed\n",
      "280 batches passed\n",
      "300 batches passed\n",
      "320 batches passed\n",
      "340 batches passed\n",
      "360 batches passed\n",
      "100 test images passed.\n",
      "200 test images passed.\n",
      "300 test images passed.\n",
      "400 test images passed.\n",
      "500 test images passed.\n",
      "600 test images passed.\n",
      "700 test images passed.\n",
      "800 test images passed.\n",
      "900 test images passed.\n",
      "1000 test images passed.\n",
      "Epoch: 1, Loss: 2.58341646194458, Validation accuracy: 0.014875438456632653\n",
      "20 batches passed\n",
      "40 batches passed\n",
      "60 batches passed\n",
      "80 batches passed\n",
      "100 batches passed\n"
     ]
    },
    {
     "ename": "KeyboardInterrupt",
     "evalue": "",
     "output_type": "error",
     "traceback": [
      "\u001b[1;31m---------------------------------------------------------------------------\u001b[0m",
      "\u001b[1;31mKeyboardInterrupt\u001b[0m                         Traceback (most recent call last)",
      "\u001b[1;32m~\\AppData\\Local\\Temp\\ipykernel_21052\\314787303.py\u001b[0m in \u001b[0;36m<cell line: 1>\u001b[1;34m()\u001b[0m\n\u001b[0;32m      1\u001b[0m \u001b[1;32mfor\u001b[0m \u001b[0mepoch\u001b[0m \u001b[1;32min\u001b[0m \u001b[0mrange\u001b[0m\u001b[1;33m(\u001b[0m\u001b[0mlast_epoch\u001b[0m\u001b[1;33m,\u001b[0m \u001b[0mnum_epochs\u001b[0m\u001b[1;33m)\u001b[0m\u001b[1;33m:\u001b[0m\u001b[1;33m\u001b[0m\u001b[1;33m\u001b[0m\u001b[0m\n\u001b[0;32m      2\u001b[0m     \u001b[0munet\u001b[0m\u001b[1;33m.\u001b[0m\u001b[0mzero_grad\u001b[0m\u001b[1;33m(\u001b[0m\u001b[1;33m)\u001b[0m\u001b[1;33m\u001b[0m\u001b[1;33m\u001b[0m\u001b[0m\n\u001b[1;32m----> 3\u001b[1;33m     \u001b[1;32mfor\u001b[0m \u001b[0midx\u001b[0m\u001b[1;33m,\u001b[0m \u001b[1;33m(\u001b[0m\u001b[0mx\u001b[0m\u001b[1;33m,\u001b[0m \u001b[0my\u001b[0m\u001b[1;33m)\u001b[0m \u001b[1;32min\u001b[0m \u001b[0menumerate\u001b[0m\u001b[1;33m(\u001b[0m\u001b[0mtrain_loader\u001b[0m\u001b[1;33m)\u001b[0m\u001b[1;33m:\u001b[0m\u001b[1;33m\u001b[0m\u001b[1;33m\u001b[0m\u001b[0m\n\u001b[0m\u001b[0;32m      4\u001b[0m         \u001b[0mx\u001b[0m\u001b[1;33m:\u001b[0m \u001b[0mtorch\u001b[0m\u001b[1;33m.\u001b[0m\u001b[0mTensor\u001b[0m\u001b[1;33m\u001b[0m\u001b[1;33m\u001b[0m\u001b[0m\n\u001b[0;32m      5\u001b[0m         \u001b[0my\u001b[0m\u001b[1;33m:\u001b[0m \u001b[0mtorch\u001b[0m\u001b[1;33m.\u001b[0m\u001b[0mTensor\u001b[0m\u001b[1;33m\u001b[0m\u001b[1;33m\u001b[0m\u001b[0m\n",
      "\u001b[1;32mD:\\program\\Python\\anaconda\\envs\\d2l\\lib\\site-packages\\torch\\utils\\data\\dataloader.py\u001b[0m in \u001b[0;36m__next__\u001b[1;34m(self)\u001b[0m\n\u001b[0;32m    679\u001b[0m                 \u001b[1;31m# TODO(https://github.com/pytorch/pytorch/issues/76750)\u001b[0m\u001b[1;33m\u001b[0m\u001b[1;33m\u001b[0m\u001b[0m\n\u001b[0;32m    680\u001b[0m                 \u001b[0mself\u001b[0m\u001b[1;33m.\u001b[0m\u001b[0m_reset\u001b[0m\u001b[1;33m(\u001b[0m\u001b[1;33m)\u001b[0m  \u001b[1;31m# type: ignore[call-arg]\u001b[0m\u001b[1;33m\u001b[0m\u001b[1;33m\u001b[0m\u001b[0m\n\u001b[1;32m--> 681\u001b[1;33m             \u001b[0mdata\u001b[0m \u001b[1;33m=\u001b[0m \u001b[0mself\u001b[0m\u001b[1;33m.\u001b[0m\u001b[0m_next_data\u001b[0m\u001b[1;33m(\u001b[0m\u001b[1;33m)\u001b[0m\u001b[1;33m\u001b[0m\u001b[1;33m\u001b[0m\u001b[0m\n\u001b[0m\u001b[0;32m    682\u001b[0m             \u001b[0mself\u001b[0m\u001b[1;33m.\u001b[0m\u001b[0m_num_yielded\u001b[0m \u001b[1;33m+=\u001b[0m \u001b[1;36m1\u001b[0m\u001b[1;33m\u001b[0m\u001b[1;33m\u001b[0m\u001b[0m\n\u001b[0;32m    683\u001b[0m             \u001b[1;32mif\u001b[0m \u001b[0mself\u001b[0m\u001b[1;33m.\u001b[0m\u001b[0m_dataset_kind\u001b[0m \u001b[1;33m==\u001b[0m \u001b[0m_DatasetKind\u001b[0m\u001b[1;33m.\u001b[0m\u001b[0mIterable\u001b[0m \u001b[1;32mand\u001b[0m\u001b[0;31m \u001b[0m\u001b[0;31m\\\u001b[0m\u001b[1;33m\u001b[0m\u001b[1;33m\u001b[0m\u001b[0m\n",
      "\u001b[1;32mD:\\program\\Python\\anaconda\\envs\\d2l\\lib\\site-packages\\torch\\utils\\data\\dataloader.py\u001b[0m in \u001b[0;36m_next_data\u001b[1;34m(self)\u001b[0m\n\u001b[0;32m    719\u001b[0m     \u001b[1;32mdef\u001b[0m \u001b[0m_next_data\u001b[0m\u001b[1;33m(\u001b[0m\u001b[0mself\u001b[0m\u001b[1;33m)\u001b[0m\u001b[1;33m:\u001b[0m\u001b[1;33m\u001b[0m\u001b[1;33m\u001b[0m\u001b[0m\n\u001b[0;32m    720\u001b[0m         \u001b[0mindex\u001b[0m \u001b[1;33m=\u001b[0m \u001b[0mself\u001b[0m\u001b[1;33m.\u001b[0m\u001b[0m_next_index\u001b[0m\u001b[1;33m(\u001b[0m\u001b[1;33m)\u001b[0m  \u001b[1;31m# may raise StopIteration\u001b[0m\u001b[1;33m\u001b[0m\u001b[1;33m\u001b[0m\u001b[0m\n\u001b[1;32m--> 721\u001b[1;33m         \u001b[0mdata\u001b[0m \u001b[1;33m=\u001b[0m \u001b[0mself\u001b[0m\u001b[1;33m.\u001b[0m\u001b[0m_dataset_fetcher\u001b[0m\u001b[1;33m.\u001b[0m\u001b[0mfetch\u001b[0m\u001b[1;33m(\u001b[0m\u001b[0mindex\u001b[0m\u001b[1;33m)\u001b[0m  \u001b[1;31m# may raise StopIteration\u001b[0m\u001b[1;33m\u001b[0m\u001b[1;33m\u001b[0m\u001b[0m\n\u001b[0m\u001b[0;32m    722\u001b[0m         \u001b[1;32mif\u001b[0m \u001b[0mself\u001b[0m\u001b[1;33m.\u001b[0m\u001b[0m_pin_memory\u001b[0m\u001b[1;33m:\u001b[0m\u001b[1;33m\u001b[0m\u001b[1;33m\u001b[0m\u001b[0m\n\u001b[0;32m    723\u001b[0m             \u001b[0mdata\u001b[0m \u001b[1;33m=\u001b[0m \u001b[0m_utils\u001b[0m\u001b[1;33m.\u001b[0m\u001b[0mpin_memory\u001b[0m\u001b[1;33m.\u001b[0m\u001b[0mpin_memory\u001b[0m\u001b[1;33m(\u001b[0m\u001b[0mdata\u001b[0m\u001b[1;33m,\u001b[0m \u001b[0mself\u001b[0m\u001b[1;33m.\u001b[0m\u001b[0m_pin_memory_device\u001b[0m\u001b[1;33m)\u001b[0m\u001b[1;33m\u001b[0m\u001b[1;33m\u001b[0m\u001b[0m\n",
      "\u001b[1;32mD:\\program\\Python\\anaconda\\envs\\d2l\\lib\\site-packages\\torch\\utils\\data\\_utils\\fetch.py\u001b[0m in \u001b[0;36mfetch\u001b[1;34m(self, possibly_batched_index)\u001b[0m\n\u001b[0;32m     47\u001b[0m     \u001b[1;32mdef\u001b[0m \u001b[0mfetch\u001b[0m\u001b[1;33m(\u001b[0m\u001b[0mself\u001b[0m\u001b[1;33m,\u001b[0m \u001b[0mpossibly_batched_index\u001b[0m\u001b[1;33m)\u001b[0m\u001b[1;33m:\u001b[0m\u001b[1;33m\u001b[0m\u001b[1;33m\u001b[0m\u001b[0m\n\u001b[0;32m     48\u001b[0m         \u001b[1;32mif\u001b[0m \u001b[0mself\u001b[0m\u001b[1;33m.\u001b[0m\u001b[0mauto_collation\u001b[0m\u001b[1;33m:\u001b[0m\u001b[1;33m\u001b[0m\u001b[1;33m\u001b[0m\u001b[0m\n\u001b[1;32m---> 49\u001b[1;33m             \u001b[0mdata\u001b[0m \u001b[1;33m=\u001b[0m \u001b[1;33m[\u001b[0m\u001b[0mself\u001b[0m\u001b[1;33m.\u001b[0m\u001b[0mdataset\u001b[0m\u001b[1;33m[\u001b[0m\u001b[0midx\u001b[0m\u001b[1;33m]\u001b[0m \u001b[1;32mfor\u001b[0m \u001b[0midx\u001b[0m \u001b[1;32min\u001b[0m \u001b[0mpossibly_batched_index\u001b[0m\u001b[1;33m]\u001b[0m\u001b[1;33m\u001b[0m\u001b[1;33m\u001b[0m\u001b[0m\n\u001b[0m\u001b[0;32m     50\u001b[0m         \u001b[1;32melse\u001b[0m\u001b[1;33m:\u001b[0m\u001b[1;33m\u001b[0m\u001b[1;33m\u001b[0m\u001b[0m\n\u001b[0;32m     51\u001b[0m             \u001b[0mdata\u001b[0m \u001b[1;33m=\u001b[0m \u001b[0mself\u001b[0m\u001b[1;33m.\u001b[0m\u001b[0mdataset\u001b[0m\u001b[1;33m[\u001b[0m\u001b[0mpossibly_batched_index\u001b[0m\u001b[1;33m]\u001b[0m\u001b[1;33m\u001b[0m\u001b[1;33m\u001b[0m\u001b[0m\n",
      "\u001b[1;32mD:\\program\\Python\\anaconda\\envs\\d2l\\lib\\site-packages\\torch\\utils\\data\\_utils\\fetch.py\u001b[0m in \u001b[0;36m<listcomp>\u001b[1;34m(.0)\u001b[0m\n\u001b[0;32m     47\u001b[0m     \u001b[1;32mdef\u001b[0m \u001b[0mfetch\u001b[0m\u001b[1;33m(\u001b[0m\u001b[0mself\u001b[0m\u001b[1;33m,\u001b[0m \u001b[0mpossibly_batched_index\u001b[0m\u001b[1;33m)\u001b[0m\u001b[1;33m:\u001b[0m\u001b[1;33m\u001b[0m\u001b[1;33m\u001b[0m\u001b[0m\n\u001b[0;32m     48\u001b[0m         \u001b[1;32mif\u001b[0m \u001b[0mself\u001b[0m\u001b[1;33m.\u001b[0m\u001b[0mauto_collation\u001b[0m\u001b[1;33m:\u001b[0m\u001b[1;33m\u001b[0m\u001b[1;33m\u001b[0m\u001b[0m\n\u001b[1;32m---> 49\u001b[1;33m             \u001b[0mdata\u001b[0m \u001b[1;33m=\u001b[0m \u001b[1;33m[\u001b[0m\u001b[0mself\u001b[0m\u001b[1;33m.\u001b[0m\u001b[0mdataset\u001b[0m\u001b[1;33m[\u001b[0m\u001b[0midx\u001b[0m\u001b[1;33m]\u001b[0m \u001b[1;32mfor\u001b[0m \u001b[0midx\u001b[0m \u001b[1;32min\u001b[0m \u001b[0mpossibly_batched_index\u001b[0m\u001b[1;33m]\u001b[0m\u001b[1;33m\u001b[0m\u001b[1;33m\u001b[0m\u001b[0m\n\u001b[0m\u001b[0;32m     50\u001b[0m         \u001b[1;32melse\u001b[0m\u001b[1;33m:\u001b[0m\u001b[1;33m\u001b[0m\u001b[1;33m\u001b[0m\u001b[0m\n\u001b[0;32m     51\u001b[0m             \u001b[0mdata\u001b[0m \u001b[1;33m=\u001b[0m \u001b[0mself\u001b[0m\u001b[1;33m.\u001b[0m\u001b[0mdataset\u001b[0m\u001b[1;33m[\u001b[0m\u001b[0mpossibly_batched_index\u001b[0m\u001b[1;33m]\u001b[0m\u001b[1;33m\u001b[0m\u001b[1;33m\u001b[0m\u001b[0m\n",
      "\u001b[1;32m~\\AppData\\Local\\Temp\\ipykernel_21052\\4256842415.py\u001b[0m in \u001b[0;36m__getitem__\u001b[1;34m(self, idx)\u001b[0m\n\u001b[0;32m     38\u001b[0m         )\n\u001b[0;32m     39\u001b[0m         \u001b[1;31m# int_label = cropped_label\u001b[0m\u001b[1;33m\u001b[0m\u001b[1;33m\u001b[0m\u001b[0m\n\u001b[1;32m---> 40\u001b[1;33m         \u001b[0mint_label\u001b[0m \u001b[1;33m=\u001b[0m \u001b[0mlabel_preprocessing\u001b[0m\u001b[1;33m(\u001b[0m\u001b[0mcropped_label\u001b[0m\u001b[1;33m)\u001b[0m\u001b[1;33m\u001b[0m\u001b[1;33m\u001b[0m\u001b[0m\n\u001b[0m\u001b[0;32m     41\u001b[0m         \u001b[1;32mreturn\u001b[0m \u001b[0mcropped_img\u001b[0m\u001b[1;33m,\u001b[0m \u001b[0mint_label\u001b[0m\u001b[1;33m\u001b[0m\u001b[1;33m\u001b[0m\u001b[0m\n\u001b[0;32m     42\u001b[0m \u001b[1;33m\u001b[0m\u001b[0m\n",
      "\u001b[1;32m~\\AppData\\Local\\Temp\\ipykernel_21052\\458924497.py\u001b[0m in \u001b[0;36mlabel_preprocessing\u001b[1;34m(label)\u001b[0m\n\u001b[0;32m      3\u001b[0m     \u001b[1;32mfor\u001b[0m \u001b[0mx\u001b[0m\u001b[1;33m,\u001b[0m \u001b[0mrow\u001b[0m \u001b[1;32min\u001b[0m \u001b[0menumerate\u001b[0m\u001b[1;33m(\u001b[0m\u001b[0mlabel\u001b[0m\u001b[1;33m.\u001b[0m\u001b[0mpermute\u001b[0m\u001b[1;33m(\u001b[0m\u001b[1;36m1\u001b[0m\u001b[1;33m,\u001b[0m \u001b[1;36m2\u001b[0m\u001b[1;33m,\u001b[0m \u001b[1;36m0\u001b[0m\u001b[1;33m)\u001b[0m\u001b[1;33m)\u001b[0m\u001b[1;33m:\u001b[0m\u001b[1;33m\u001b[0m\u001b[1;33m\u001b[0m\u001b[0m\n\u001b[0;32m      4\u001b[0m         \u001b[1;32mfor\u001b[0m \u001b[0my\u001b[0m\u001b[1;33m,\u001b[0m \u001b[0mcolor\u001b[0m \u001b[1;32min\u001b[0m \u001b[0menumerate\u001b[0m\u001b[1;33m(\u001b[0m\u001b[0mrow\u001b[0m\u001b[1;33m)\u001b[0m\u001b[1;33m:\u001b[0m\u001b[1;33m\u001b[0m\u001b[1;33m\u001b[0m\u001b[0m\n\u001b[1;32m----> 5\u001b[1;33m             \u001b[0mint_label\u001b[0m\u001b[1;33m[\u001b[0m\u001b[0mx\u001b[0m\u001b[1;33m,\u001b[0m \u001b[0my\u001b[0m\u001b[1;33m]\u001b[0m \u001b[1;33m=\u001b[0m \u001b[0mCOLORMAP\u001b[0m\u001b[1;33m[\u001b[0m\u001b[0mtuple\u001b[0m\u001b[1;33m(\u001b[0m\u001b[0mcolor\u001b[0m\u001b[1;33m.\u001b[0m\u001b[0mtolist\u001b[0m\u001b[1;33m(\u001b[0m\u001b[1;33m)\u001b[0m\u001b[1;33m)\u001b[0m\u001b[1;33m]\u001b[0m\u001b[1;33m\u001b[0m\u001b[1;33m\u001b[0m\u001b[0m\n\u001b[0m\u001b[0;32m      6\u001b[0m \u001b[1;33m\u001b[0m\u001b[0m\n\u001b[0;32m      7\u001b[0m     \u001b[1;32mreturn\u001b[0m \u001b[0mint_label\u001b[0m\u001b[1;33m\u001b[0m\u001b[1;33m\u001b[0m\u001b[0m\n",
      "\u001b[1;31mKeyboardInterrupt\u001b[0m: "
     ]
    }
   ],
   "source": [
    "for epoch in range(last_epoch, num_epochs):\n",
    "    unet.zero_grad()\n",
    "    for idx, (x, y) in enumerate(train_loader):\n",
    "        x: torch.Tensor\n",
    "        y: torch.Tensor\n",
    "        x = x.float().to(gpu)\n",
    "        y = y.long().to(gpu)\n",
    "        y_hat = unet(x)\n",
    "        l = loss(y_hat, y)\n",
    "        l.backward()\n",
    "        optimizer.step()\n",
    "\n",
    "        if (idx + 1) % 20 == 0:\n",
    "            print(f\"{idx + 1} batches passed\")\n",
    "    \n",
    "    # Count accuracy\n",
    "    num_accurate = 0\n",
    "    num_total = 0\n",
    "    \n",
    "    with torch.no_grad():\n",
    "        for idx, (x, y) in enumerate(test_loader):\n",
    "            x: torch.Tensor\n",
    "            y: torch.Tensor\n",
    "            x = x.float().to(gpu)\n",
    "            y = y.long().to(gpu)\n",
    "            num_total += int(y.shape[1] * y.shape[2])\n",
    "            y_hat = unet(x)\n",
    "            num_accurate += count_accurate(y_hat, y)\n",
    "            if (idx + 1) % 100 == 0:\n",
    "                print(f\"{idx + 1} test images passed.\")\n",
    "    \n",
    "    checkpoint = {\n",
    "        'model': unet.state_dict(),\n",
    "        'optimizer': optimizer.state_dict(),\n",
    "        'accuracy': num_accurate / num_total,\n",
    "        'epoch': epoch + 1\n",
    "    }\n",
    "    torch.save(checkpoint, f\"./parameter_epoch_{epoch + 1}_lr_{lr}_weighted_loss_bn.tar\")\n",
    "    \n",
    "    print(\"Epoch: {}, Loss: {}, Validation accuracy: {}\".format(\n",
    "          epoch + 1, float(l), num_accurate / num_total)) \n"
   ]
  }
 ],
 "metadata": {
  "interpreter": {
   "hash": "8e322847a449c710f75ffc7b51d83d0cba99eb81db77ebc2acc1ec8be468b8df"
  },
  "kernelspec": {
   "display_name": "Python 3 (ipykernel)",
   "language": "python",
   "name": "python3"
  },
  "language_info": {
   "codemirror_mode": {
    "name": "ipython",
    "version": 3
   },
   "file_extension": ".py",
   "mimetype": "text/x-python",
   "name": "python",
   "nbconvert_exporter": "python",
   "pygments_lexer": "ipython3",
   "version": "3.9.13"
  }
 },
 "nbformat": 4,
 "nbformat_minor": 4
}
