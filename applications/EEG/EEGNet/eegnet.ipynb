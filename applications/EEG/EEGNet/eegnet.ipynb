{
 "cells": [
  {
   "cell_type": "code",
   "execution_count": 2,
   "metadata": {},
   "outputs": [],
   "source": [
    "import numpy as np\n",
    "import matplotlib.pyplot as plt\n",
    "import torch\n",
    "from torch import nn\n",
    "from torch.nn import functional as F\n",
    "from torch.utils.data import DataLoader, Dataset\n",
    "import torch.optim as optim\n",
    "from torchvision import transforms"
   ]
  },
  {
   "cell_type": "markdown",
   "metadata": {},
   "source": [
    "## 读入数据"
   ]
  },
  {
   "cell_type": "code",
   "execution_count": 3,
   "metadata": {},
   "outputs": [],
   "source": [
    "from scipy.io import loadmat\n",
    "\n",
    "dataset = loadmat(\"dataset/Subject_B_Train.mat\")"
   ]
  },
  {
   "cell_type": "code",
   "execution_count": 4,
   "metadata": {},
   "outputs": [
    {
     "data": {
      "text/plain": [
       "((85, 7794, 64), (85, 7794))"
      ]
     },
     "execution_count": 4,
     "metadata": {},
     "output_type": "execute_result"
    }
   ],
   "source": [
    "signals = dataset['Signal']\n",
    "flashing = dataset['Flashing']\n",
    "labels = dataset['StimulusType'] # 0 when intensified row / column does not include target character.\n",
    "\n",
    "signals.shape, labels.shape"
   ]
  },
  {
   "cell_type": "code",
   "execution_count": 5,
   "metadata": {},
   "outputs": [],
   "source": [
    "class EEGDataset(Dataset):\n",
    "    def __init__(self, features: torch.Tensor, labels: torch.Tensor):\n",
    "        super().__init__()\n",
    "        self.features = features\n",
    "        self.labels = labels\n",
    "    \n",
    "    def __len__(self):\n",
    "        return self.features.shape[0]\n",
    "\n",
    "    def __getitem__(self, idx: int):\n",
    "        return self.features[idx], self.labels[idx]\n"
   ]
  },
  {
   "cell_type": "code",
   "execution_count": null,
   "metadata": {},
   "outputs": [],
   "source": [
    "trans = transforms.ToTensor()\n"
   ]
  },
  {
   "cell_type": "code",
   "execution_count": 9,
   "metadata": {},
   "outputs": [],
   "source": [
    "class MaxNormConv2d(nn.Conv2d):\n",
    "    def __init__(self, *args, max_norm=1, **kwargs):\n",
    "        super().__init__(*args, **kwargs)\n",
    "        self.max_norm = max_norm\n",
    "    \n",
    "    def forward(self, x):\n",
    "        self.weight.data = torch.renorm(\n",
    "            self.weight.data, p=2, dim=0, maxnorm=self.max_norm\n",
    "        )\n",
    "        return super().forward(x)\n"
   ]
  },
  {
   "cell_type": "code",
   "execution_count": 10,
   "metadata": {},
   "outputs": [],
   "source": [
    "class EEGNet(nn.Module):\n",
    "    def __init__(self, num_channels):\n",
    "        super(EEGNet, self).__init__()\n",
    "        self.T = 120\n",
    "    \n",
    "        self.C = num_channels\n",
    "        self.F1 = 16 # The number of channels after first conv2d\n",
    "        self.D = 2 # depth multiplier, used in depthwise conv\n",
    "        self.p = 0.5 # dropout rate\n",
    "        self.F2 = self.F1 * self.D\n",
    "        self.N = 2 # number of classes\n",
    "\n",
    "        # Here input shape is (1, C, T)\n",
    "        b1 = nn.Sequential(\n",
    "            nn.Conv2d(1, self.F1, (1, 64), padding=\"same\"), # 1D Convolution to time\n",
    "            nn.BatchNorm2d(self.F1, affine=True, eps=1e-3),\n",
    "            MaxNormConv2d(self.F1, self.F1 * self.D,\n",
    "            (self.C, 1), max_norm=1, groups=self.F1), # Depthwise Conv\n",
    "            nn.BatchNorm2d(self.F1 * self.D, affine=True, eps=1e-3),\n",
    "            nn.ELU(),\n",
    "            nn.AvgPool2d((1, 4)),\n",
    "            nn.Dropout(self.p)\n",
    "        )\n",
    "\n",
    "        b2 = nn.Sequential(\n",
    "            nn.Conv2d(self.F1 * self.D, self.F1 * self.D, (1, 16),\n",
    "                groups = self.F1 * self.D, padding=\"same\"), # Separable Conv 1 (depthwise conv)\n",
    "            nn.Conv2d(self.F1 * self.D, self.F2, kernel_size=1), # Separable Conv 1 (pointwise conv)\n",
    "            nn.BatchNorm2d(self.F2),\n",
    "            nn.ELU(),\n",
    "            nn.AvgPool2d((1, 8)),\n",
    "            nn.Dropout(self.p),\n",
    "            nn.Flatten()\n",
    "        )\n",
    "\n",
    "        self.net = nn.Sequential(b1, b2, nn.LazyLinear(self.N))\n",
    "    \n",
    "    def forward(self, x):\n",
    "        return self.net(x)"
   ]
  },
  {
   "cell_type": "code",
   "execution_count": 11,
   "metadata": {},
   "outputs": [
    {
     "name": "stderr",
     "output_type": "stream",
     "text": [
      "D:\\program\\Python\\anaconda\\envs\\d2l\\lib\\site-packages\\torch\\nn\\modules\\lazy.py:178: UserWarning: Lazy modules are a new feature under heavy development so changes to the API or functionality can happen at any moment.\n",
      "  warnings.warn('Lazy modules are a new feature under heavy development '\n",
      "D:\\program\\Python\\anaconda\\envs\\d2l\\lib\\site-packages\\torch\\nn\\modules\\conv.py:453: UserWarning: Using padding='same' with even kernel lengths and odd dilation may require a zero-padded copy of the input be created (Triggered internally at  C:\\cb\\pytorch_1000000000000\\work\\aten\\src\\ATen\\native\\Convolution.cpp:883.)\n",
      "  return F.conv2d(input, weight, bias, self.stride,\n"
     ]
    }
   ],
   "source": [
    "net = EEGNet(num_channels=64)\n",
    "y1 = net(torch.from_numpy(signals[0]).T.reshape(1, 1, 64, -1))"
   ]
  },
  {
   "cell_type": "code",
   "execution_count": 12,
   "metadata": {},
   "outputs": [
    {
     "data": {
      "text/plain": [
       "(torch.Size([64, 7794]), torch.Size([1, 2]))"
      ]
     },
     "execution_count": 12,
     "metadata": {},
     "output_type": "execute_result"
    }
   ],
   "source": [
    "torch.from_numpy(signals[0]).T.shape, y1.shape"
   ]
  },
  {
   "cell_type": "code",
   "execution_count": 13,
   "metadata": {},
   "outputs": [
    {
     "data": {
      "text/plain": [
       "tensor([[-0.7683, -0.6069]], grad_fn=<AddmmBackward0>)"
      ]
     },
     "execution_count": 13,
     "metadata": {},
     "output_type": "execute_result"
    }
   ],
   "source": [
    "y1"
   ]
  }
 ],
 "metadata": {
  "interpreter": {
   "hash": "8e322847a449c710f75ffc7b51d83d0cba99eb81db77ebc2acc1ec8be468b8df"
  },
  "kernelspec": {
   "display_name": "Python 3.9.13 ('d2l')",
   "language": "python",
   "name": "python3"
  },
  "language_info": {
   "codemirror_mode": {
    "name": "ipython",
    "version": 3
   },
   "file_extension": ".py",
   "mimetype": "text/x-python",
   "name": "python",
   "nbconvert_exporter": "python",
   "pygments_lexer": "ipython3",
   "version": "3.9.13"
  },
  "orig_nbformat": 4
 },
 "nbformat": 4,
 "nbformat_minor": 2
}
