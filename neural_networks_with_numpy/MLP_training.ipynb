{
 "cells": [
  {
   "cell_type": "code",
   "execution_count": 9,
   "metadata": {},
   "outputs": [],
   "source": [
    "from mnist_loader import load_data_wrapper\n",
    "from MLP import MLP\n",
    "import numpy as np\n",
    "import matplotlib.pyplot as plt"
   ]
  },
  {
   "cell_type": "code",
   "execution_count": 2,
   "metadata": {},
   "outputs": [],
   "source": [
    "tr_d, va_d, te_d = load_data_wrapper()"
   ]
  },
  {
   "cell_type": "code",
   "execution_count": 3,
   "metadata": {},
   "outputs": [],
   "source": [
    "net = MLP([784, 30, 10])"
   ]
  },
  {
   "cell_type": "code",
   "execution_count": 4,
   "metadata": {},
   "outputs": [
    {
     "data": {
      "text/plain": [
       "array([[  9.24386994],\n",
       "       [ -3.04978792],\n",
       "       [ 15.92739285],\n",
       "       [ 12.76427719],\n",
       "       [  2.84010927],\n",
       "       [ 10.0862961 ],\n",
       "       [ -3.08855842],\n",
       "       [  0.67161302],\n",
       "       [ 19.05077117],\n",
       "       [  2.8884499 ],\n",
       "       [-14.77571039],\n",
       "       [  1.66986114],\n",
       "       [ -0.95971289],\n",
       "       [-12.22783169],\n",
       "       [ 13.18280436],\n",
       "       [  6.74898905],\n",
       "       [-12.8777022 ],\n",
       "       [ 14.63310105],\n",
       "       [  4.93313851],\n",
       "       [ 19.43511898],\n",
       "       [-12.61715355],\n",
       "       [  3.6133812 ],\n",
       "       [-21.25362115],\n",
       "       [ -8.23600954],\n",
       "       [ -5.11117522],\n",
       "       [-12.2883151 ],\n",
       "       [  1.84773471],\n",
       "       [-15.88659375],\n",
       "       [-12.8023967 ],\n",
       "       [ -7.07581085]])"
      ]
     },
     "execution_count": 4,
     "metadata": {},
     "output_type": "execute_result"
    }
   ],
   "source": [
    "net.weights[0] @ tr_d[0][0] + net.biases[0]"
   ]
  },
  {
   "cell_type": "code",
   "execution_count": 5,
   "metadata": {},
   "outputs": [
    {
     "data": {
      "text/plain": [
       "(10, 1)"
      ]
     },
     "execution_count": 5,
     "metadata": {},
     "output_type": "execute_result"
    }
   ],
   "source": [
    "np.shape(net.weights[1] @ (net.weights[0] @ tr_d[0][0] + net.biases[0]) + net.biases[1])"
   ]
  },
  {
   "cell_type": "code",
   "execution_count": null,
   "metadata": {},
   "outputs": [],
   "source": []
  },
  {
   "cell_type": "code",
   "execution_count": 6,
   "metadata": {},
   "outputs": [
    {
     "name": "stdout",
     "output_type": "stream",
     "text": [
      "Epoch 0 : 9134 / 10000\n",
      "Epoch 1 : 9233 / 10000\n",
      "Epoch 2 : 9312 / 10000\n",
      "Epoch 3 : 9372 / 10000\n",
      "Epoch 4 : 9403 / 10000\n",
      "Epoch 5 : 9408 / 10000\n",
      "Epoch 6 : 9389 / 10000\n",
      "Epoch 7 : 9339 / 10000\n",
      "Epoch 8 : 9453 / 10000\n",
      "Epoch 9 : 9446 / 10000\n",
      "Epoch 10 : 9437 / 10000\n",
      "Epoch 11 : 9472 / 10000\n",
      "Epoch 12 : 9465 / 10000\n",
      "Epoch 13 : 9483 / 10000\n",
      "Epoch 14 : 9446 / 10000\n",
      "Epoch 15 : 9477 / 10000\n",
      "Epoch 16 : 9470 / 10000\n",
      "Epoch 17 : 9494 / 10000\n",
      "Epoch 18 : 9492 / 10000\n",
      "Epoch 19 : 9507 / 10000\n",
      "Epoch 20 : 9507 / 10000\n",
      "Epoch 21 : 9495 / 10000\n",
      "Epoch 22 : 9492 / 10000\n",
      "Epoch 23 : 9505 / 10000\n",
      "Epoch 24 : 9476 / 10000\n",
      "Epoch 25 : 9474 / 10000\n",
      "Epoch 26 : 9500 / 10000\n",
      "Epoch 27 : 9501 / 10000\n",
      "Epoch 28 : 9468 / 10000\n",
      "Epoch 29 : 9514 / 10000\n"
     ]
    }
   ],
   "source": [
    "net.train(tr_d, 30, 10, 1.0, test_data=te_d)"
   ]
  },
  {
   "cell_type": "code",
   "execution_count": 20,
   "metadata": {},
   "outputs": [
    {
     "data": {
      "text/plain": [
       "<matplotlib.image.AxesImage at 0x243e43ac6a0>"
      ]
     },
     "execution_count": 20,
     "metadata": {},
     "output_type": "execute_result"
    },
    {
     "data": {
      "image/png": "[encoded data removed]",
      "text/plain": [
       "<Figure size 432x288 with 1 Axes>"
      ]
     },
     "metadata": {
      "needs_background": "light"
     },
     "output_type": "display_data"
    }
   ],
   "source": [
    "plt.imshow(te_d[1949][0].reshape(28, 28), cmap='gray')"
   ]
  },
  {
   "cell_type": "code",
   "execution_count": 21,
   "metadata": {},
   "outputs": [
    {
     "data": {
      "text/plain": [
       "array([[6.65320228e-08],\n",
       "       [1.67052452e-07],\n",
       "       [1.74121675e-06],\n",
       "       [7.49598568e-08],\n",
       "       [3.12541457e-05],\n",
       "       [2.18497504e-05],\n",
       "       [3.41909395e-10],\n",
       "       [9.99783079e-01],\n",
       "       [1.60122263e-04],\n",
       "       [2.95741354e-06]])"
      ]
     },
     "execution_count": 21,
     "metadata": {},
     "output_type": "execute_result"
    }
   ],
   "source": [
    "net.feedforward(te_d[1949][0])"
   ]
  },
  {
   "cell_type": "markdown",
   "metadata": {},
   "source": [
    "## 保存训练完的参数\n",
    "\n",
    "使用`pickle`包"
   ]
  },
  {
   "cell_type": "code",
   "execution_count": 22,
   "metadata": {},
   "outputs": [],
   "source": [
    "import pickle"
   ]
  },
  {
   "cell_type": "code",
   "execution_count": 24,
   "metadata": {},
   "outputs": [],
   "source": [
    "pkl = (net.weights, net.biases)"
   ]
  },
  {
   "cell_type": "code",
   "execution_count": 25,
   "metadata": {},
   "outputs": [],
   "source": [
    "with open('data/MLP_parameters.pkl', mode='wb') as f:\n",
    "    pickle.dump(pkl, f)\n",
    "    "
   ]
  },
  {
   "cell_type": "markdown",
   "metadata": {},
   "source": [
    "尝试读取数据"
   ]
  },
  {
   "cell_type": "code",
   "execution_count": 27,
   "metadata": {},
   "outputs": [],
   "source": [
    "with open('data/MLP_parameters.pkl', mode='rb') as f:\n",
    "    weights, biases = pickle.load(f)"
   ]
  },
  {
   "cell_type": "code",
   "execution_count": 31,
   "metadata": {},
   "outputs": [
    {
     "data": {
      "text/plain": [
       "array([[0., 0., 0., ..., 0., 0., 0.],\n",
       "       [0., 0., 0., ..., 0., 0., 0.],\n",
       "       [0., 0., 0., ..., 0., 0., 0.],\n",
       "       ...,\n",
       "       [0., 0., 0., ..., 0., 0., 0.],\n",
       "       [0., 0., 0., ..., 0., 0., 0.],\n",
       "       [0., 0., 0., ..., 0., 0., 0.]])"
      ]
     },
     "execution_count": 31,
     "metadata": {},
     "output_type": "execute_result"
    }
   ],
   "source": [
    "# 检查是否恒等\n",
    "weights[0] - net.weights[0]"
   ]
  },
  {
   "cell_type": "code",
   "execution_count": null,
   "metadata": {},
   "outputs": [],
   "source": []
  },
  {
   "cell_type": "code",
   "execution_count": null,
   "metadata": {},
   "outputs": [],
   "source": []
  }
 ],
 "metadata": {
  "interpreter": {
   "hash": "552b560d86b437bb7daaaaa7a6e4f2f1d19845d713f6aab83779eadaf7118d43"
  },
  "kernelspec": {
   "display_name": "Python 3.9.12 ('ml')",
   "language": "python",
   "name": "python3"
  },
  "language_info": {
   "codemirror_mode": {
    "name": "ipython",
    "version": 3
   },
   "file_extension": ".py",
   "mimetype": "text/x-python",
   "name": "python",
   "nbconvert_exporter": "python",
   "pygments_lexer": "ipython3",
   "version": "3.9.12"
  },
  "orig_nbformat": 4
 },
 "nbformat": 4,
 "nbformat_minor": 2
}
